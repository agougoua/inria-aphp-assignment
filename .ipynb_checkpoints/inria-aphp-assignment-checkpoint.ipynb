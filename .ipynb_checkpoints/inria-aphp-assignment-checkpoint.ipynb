{
 "cells": [
  {
   "cell_type": "code",
   "execution_count": 1,
   "metadata": {},
   "outputs": [],
   "source": [
    "# Python 3.8\n",
    "# Copyright Alban GOUGOUA"
   ]
  },
  {
   "cell_type": "markdown",
   "metadata": {},
   "source": [
    "# Exercice d'évaluation pour le poste Inria / AP-HP"
   ]
  },
  {
   "cell_type": "markdown",
   "metadata": {},
   "source": [
    "## Prérequis\n",
    "Ce bout de code ci-dessous a été fourni par les évaluateurs. Il permet de lire les données présentes dans le fichier **data.db**."
   ]
  },
  {
   "cell_type": "code",
   "execution_count": 2,
   "metadata": {},
   "outputs": [],
   "source": [
    "import pandas as pd\n",
    "from sqlalchemy import create_engine\n",
    "\n",
    "engine = create_engine('sqlite:///data.db', echo=False)\n",
    "con = engine.connect()\n",
    "df_patient = pd.read_sql('select * from patient', con=con)\n",
    "df_pcr = pd.read_sql('select * from test', con=con)\n",
    "con.close()"
   ]
  },
  {
   "cell_type": "markdown",
   "metadata": {},
   "source": [
    "## Question 1\n",
    "*Mettre en évidence les problèmes de qualité de données (données incohérentes, données manquantes etc.)*"
   ]
  },
  {
   "cell_type": "markdown",
   "metadata": {},
   "source": [
    "### Importer les différentes librairies nécessaires au travail"
   ]
  },
  {
   "cell_type": "code",
   "execution_count": 3,
   "metadata": {},
   "outputs": [],
   "source": [
    "# Data analysis\n",
    "import numpy as np\n",
    "import re\n",
    "import datetime\n",
    "\n",
    "# Visualization\n",
    "from matplotlib import pyplot as plt\n",
    "%matplotlib inline\n",
    "import seaborn as sns\n",
    "sns.set(style=\"darkgrid\")"
   ]
  },
  {
   "cell_type": "markdown",
   "metadata": {},
   "source": [
    "### Description des données : df_patient"
   ]
  },
  {
   "cell_type": "markdown",
   "metadata": {},
   "source": [
    "*Quelles sont les variables disponibles ?*"
   ]
  },
  {
   "cell_type": "code",
   "execution_count": 4,
   "metadata": {},
   "outputs": [
    {
     "name": "stdout",
     "output_type": "stream",
     "text": [
      "['patient_id' 'given_name' 'surname' 'street_number' 'address_1' 'suburb'\n",
      " 'postcode' 'state' 'date_of_birth' 'age' 'phone_number' 'address_2']\n"
     ]
    }
   ],
   "source": [
    "print(df_patient.columns.values)"
   ]
  },
  {
   "cell_type": "markdown",
   "metadata": {},
   "source": [
    "*Lesquelles des variables sont catégorielles ou quantitatives ?*\n",
    "* Nominale : given_name, surname, address_1, suburb, postcode, state, phone_number, address_2"
   ]
  },
  {
   "cell_type": "markdown",
   "metadata": {},
   "source": [
    "*Lesquelles des variables sont numériques ?*\n",
    "* Discrète : street_number, age\n",
    "* Continue : date_of_birth"
   ]
  },
  {
   "cell_type": "code",
   "execution_count": 5,
   "metadata": {
    "scrolled": true
   },
   "outputs": [
    {
     "data": {
      "text/html": [
       "<div>\n",
       "<style scoped>\n",
       "    .dataframe tbody tr th:only-of-type {\n",
       "        vertical-align: middle;\n",
       "    }\n",
       "\n",
       "    .dataframe tbody tr th {\n",
       "        vertical-align: top;\n",
       "    }\n",
       "\n",
       "    .dataframe thead th {\n",
       "        text-align: right;\n",
       "    }\n",
       "</style>\n",
       "<table border=\"1\" class=\"dataframe\">\n",
       "  <thead>\n",
       "    <tr style=\"text-align: right;\">\n",
       "      <th></th>\n",
       "      <th>patient_id</th>\n",
       "      <th>given_name</th>\n",
       "      <th>surname</th>\n",
       "      <th>street_number</th>\n",
       "      <th>address_1</th>\n",
       "      <th>suburb</th>\n",
       "      <th>postcode</th>\n",
       "      <th>state</th>\n",
       "      <th>date_of_birth</th>\n",
       "      <th>age</th>\n",
       "      <th>phone_number</th>\n",
       "      <th>address_2</th>\n",
       "    </tr>\n",
       "  </thead>\n",
       "  <tbody>\n",
       "    <tr>\n",
       "      <th>0</th>\n",
       "      <td>221958</td>\n",
       "      <td>matisse</td>\n",
       "      <td>clarke</td>\n",
       "      <td>13.0</td>\n",
       "      <td>rene street</td>\n",
       "      <td>ellenbrook</td>\n",
       "      <td>2527</td>\n",
       "      <td>wa</td>\n",
       "      <td>19710708.0</td>\n",
       "      <td>32.0</td>\n",
       "      <td>08 86018809</td>\n",
       "      <td>westella</td>\n",
       "    </tr>\n",
       "    <tr>\n",
       "      <th>1</th>\n",
       "      <td>771155</td>\n",
       "      <td>joshua</td>\n",
       "      <td>elrick</td>\n",
       "      <td>23.0</td>\n",
       "      <td>andrea place</td>\n",
       "      <td>east preston</td>\n",
       "      <td>2074</td>\n",
       "      <td>nsw</td>\n",
       "      <td>19120921.0</td>\n",
       "      <td>34.0</td>\n",
       "      <td>02 97793152</td>\n",
       "      <td>foxdown</td>\n",
       "    </tr>\n",
       "    <tr>\n",
       "      <th>2</th>\n",
       "      <td>231932</td>\n",
       "      <td>alice</td>\n",
       "      <td>conboy</td>\n",
       "      <td>35.0</td>\n",
       "      <td>mountain circuit</td>\n",
       "      <td>prospect</td>\n",
       "      <td>2305</td>\n",
       "      <td>nsw</td>\n",
       "      <td>19810905.0</td>\n",
       "      <td>22.0</td>\n",
       "      <td>02 20403934</td>\n",
       "      <td>None</td>\n",
       "    </tr>\n",
       "    <tr>\n",
       "      <th>3</th>\n",
       "      <td>465838</td>\n",
       "      <td>sienna</td>\n",
       "      <td>craswell</td>\n",
       "      <td>39.0</td>\n",
       "      <td>cumberlegeicrescent</td>\n",
       "      <td>henty</td>\n",
       "      <td>3620</td>\n",
       "      <td>wa</td>\n",
       "      <td>19840809.0</td>\n",
       "      <td>30.0</td>\n",
       "      <td>02 62832318</td>\n",
       "      <td>jodane</td>\n",
       "    </tr>\n",
       "    <tr>\n",
       "      <th>4</th>\n",
       "      <td>359178</td>\n",
       "      <td>joshua</td>\n",
       "      <td>bastiaans</td>\n",
       "      <td>144.0</td>\n",
       "      <td>lowrie street</td>\n",
       "      <td>campbell town</td>\n",
       "      <td>4051</td>\n",
       "      <td>nsw</td>\n",
       "      <td>19340430.0</td>\n",
       "      <td>31.0</td>\n",
       "      <td>03 69359594</td>\n",
       "      <td>None</td>\n",
       "    </tr>\n",
       "  </tbody>\n",
       "</table>\n",
       "</div>"
      ],
      "text/plain": [
       "   patient_id given_name    surname  street_number            address_1  \\\n",
       "0      221958    matisse     clarke           13.0          rene street   \n",
       "1      771155     joshua     elrick           23.0         andrea place   \n",
       "2      231932      alice     conboy           35.0     mountain circuit   \n",
       "3      465838     sienna   craswell           39.0  cumberlegeicrescent   \n",
       "4      359178     joshua  bastiaans          144.0        lowrie street   \n",
       "\n",
       "          suburb postcode state  date_of_birth   age phone_number address_2  \n",
       "0     ellenbrook     2527    wa     19710708.0  32.0  08 86018809  westella  \n",
       "1   east preston     2074   nsw     19120921.0  34.0  02 97793152   foxdown  \n",
       "2       prospect     2305   nsw     19810905.0  22.0  02 20403934      None  \n",
       "3          henty     3620    wa     19840809.0  30.0  02 62832318    jodane  \n",
       "4  campbell town     4051   nsw     19340430.0  31.0  03 69359594      None  "
      ]
     },
     "execution_count": 5,
     "metadata": {},
     "output_type": "execute_result"
    }
   ],
   "source": [
    "# Preview data\n",
    "df_patient.head()"
   ]
  },
  {
   "cell_type": "code",
   "execution_count": 6,
   "metadata": {
    "scrolled": true
   },
   "outputs": [
    {
     "data": {
      "text/html": [
       "<div>\n",
       "<style scoped>\n",
       "    .dataframe tbody tr th:only-of-type {\n",
       "        vertical-align: middle;\n",
       "    }\n",
       "\n",
       "    .dataframe tbody tr th {\n",
       "        vertical-align: top;\n",
       "    }\n",
       "\n",
       "    .dataframe thead th {\n",
       "        text-align: right;\n",
       "    }\n",
       "</style>\n",
       "<table border=\"1\" class=\"dataframe\">\n",
       "  <thead>\n",
       "    <tr style=\"text-align: right;\">\n",
       "      <th></th>\n",
       "      <th>patient_id</th>\n",
       "      <th>given_name</th>\n",
       "      <th>surname</th>\n",
       "      <th>street_number</th>\n",
       "      <th>address_1</th>\n",
       "      <th>suburb</th>\n",
       "      <th>postcode</th>\n",
       "      <th>state</th>\n",
       "      <th>date_of_birth</th>\n",
       "      <th>age</th>\n",
       "      <th>phone_number</th>\n",
       "      <th>address_2</th>\n",
       "    </tr>\n",
       "  </thead>\n",
       "  <tbody>\n",
       "    <tr>\n",
       "      <th>19995</th>\n",
       "      <td>368617</td>\n",
       "      <td>abby</td>\n",
       "      <td>None</td>\n",
       "      <td>19.0</td>\n",
       "      <td>john cleland crescent</td>\n",
       "      <td>boyne island</td>\n",
       "      <td>2290</td>\n",
       "      <td>nsw</td>\n",
       "      <td>19570210.0</td>\n",
       "      <td>NaN</td>\n",
       "      <td>02 92489054</td>\n",
       "      <td>glenmore</td>\n",
       "    </tr>\n",
       "    <tr>\n",
       "      <th>19996</th>\n",
       "      <td>796658</td>\n",
       "      <td>dale</td>\n",
       "      <td>priest</td>\n",
       "      <td>19.0</td>\n",
       "      <td>bellchambers crescent</td>\n",
       "      <td>hoppers crossing</td>\n",
       "      <td>3033</td>\n",
       "      <td>wa</td>\n",
       "      <td>19590619.0</td>\n",
       "      <td>31.0</td>\n",
       "      <td>07 20549476</td>\n",
       "      <td>None</td>\n",
       "    </tr>\n",
       "    <tr>\n",
       "      <th>19997</th>\n",
       "      <td>511885</td>\n",
       "      <td>alessia</td>\n",
       "      <td>mawlai</td>\n",
       "      <td>4.0</td>\n",
       "      <td>miller street</td>\n",
       "      <td>smithfield</td>\n",
       "      <td>3616</td>\n",
       "      <td>tas</td>\n",
       "      <td>NaN</td>\n",
       "      <td>26.0</td>\n",
       "      <td>03 83466737</td>\n",
       "      <td>None</td>\n",
       "    </tr>\n",
       "    <tr>\n",
       "      <th>19998</th>\n",
       "      <td>985932</td>\n",
       "      <td>hannah</td>\n",
       "      <td>mason</td>\n",
       "      <td>1.0</td>\n",
       "      <td>halligan place</td>\n",
       "      <td>beaumaris</td>\n",
       "      <td>2443</td>\n",
       "      <td>wa</td>\n",
       "      <td>19140304.0</td>\n",
       "      <td>25.0</td>\n",
       "      <td>04 41125514</td>\n",
       "      <td>None</td>\n",
       "    </tr>\n",
       "    <tr>\n",
       "      <th>19999</th>\n",
       "      <td>925217</td>\n",
       "      <td>jack</td>\n",
       "      <td>mcveigh</td>\n",
       "      <td>5.0</td>\n",
       "      <td>alinda place</td>\n",
       "      <td>thornlands</td>\n",
       "      <td>4350</td>\n",
       "      <td>nsw</td>\n",
       "      <td>19230521.0</td>\n",
       "      <td>26.0</td>\n",
       "      <td>07 52535106</td>\n",
       "      <td>None</td>\n",
       "    </tr>\n",
       "  </tbody>\n",
       "</table>\n",
       "</div>"
      ],
      "text/plain": [
       "       patient_id given_name  surname  street_number              address_1  \\\n",
       "19995      368617       abby     None           19.0  john cleland crescent   \n",
       "19996      796658       dale   priest           19.0  bellchambers crescent   \n",
       "19997      511885    alessia   mawlai            4.0          miller street   \n",
       "19998      985932     hannah    mason            1.0         halligan place   \n",
       "19999      925217       jack  mcveigh            5.0           alinda place   \n",
       "\n",
       "                 suburb postcode state  date_of_birth   age phone_number  \\\n",
       "19995      boyne island     2290   nsw     19570210.0   NaN  02 92489054   \n",
       "19996  hoppers crossing     3033    wa     19590619.0  31.0  07 20549476   \n",
       "19997        smithfield     3616   tas            NaN  26.0  03 83466737   \n",
       "19998         beaumaris     2443    wa     19140304.0  25.0  04 41125514   \n",
       "19999        thornlands     4350   nsw     19230521.0  26.0  07 52535106   \n",
       "\n",
       "      address_2  \n",
       "19995  glenmore  \n",
       "19996      None  \n",
       "19997      None  \n",
       "19998      None  \n",
       "19999      None  "
      ]
     },
     "execution_count": 6,
     "metadata": {},
     "output_type": "execute_result"
    }
   ],
   "source": [
    "df_patient.tail()"
   ]
  },
  {
   "cell_type": "markdown",
   "metadata": {},
   "source": [
    "*Lesquelles des variables comporteraient des erreurs ou des valeurs manquantes ?*\n",
    "\n",
    "Il est assez difficile de parcourir l'ensemble des données **df_patient** et relever toutes les erreurs.\n",
    "Du bref aperçu, je note plus qu'il y a des données manquantes dans la plupart des variables :\n",
    "* **Moins de 5%** : postcode, suburb, street_number, surname, given_name, address_1, phone_number (*variables donc nécessaires pour la détection des doublons*) ; de plus, il n'y a aucune ligne avec des valeurs manquantes dans toutes ces variables en même temps\n",
    "* **Entre 5-20%** : state, date_of_birth, age\n",
    "* **Plus de 50%** : address_2 (*cette variable sera donc supprimée de notre dataframe*)"
   ]
  },
  {
   "cell_type": "code",
   "execution_count": 7,
   "metadata": {
    "scrolled": true
   },
   "outputs": [
    {
     "data": {
      "text/plain": [
       "patient_id        0.00\n",
       "postcode          1.00\n",
       "suburb            1.06\n",
       "street_number     1.91\n",
       "surname           2.12\n",
       "given_name        2.20\n",
       "address_1         3.98\n",
       "phone_number      4.60\n",
       "state             9.95\n",
       "date_of_birth    10.06\n",
       "age              19.98\n",
       "address_2        60.54\n",
       "dtype: float64"
      ]
     },
     "execution_count": 7,
     "metadata": {},
     "output_type": "execute_result"
    }
   ],
   "source": [
    "# df_patient['patient_id'] == len(df_patient)\n",
    "# df_patient['patient_id'] is the reference\n",
    "\n",
    "round((df_patient.isna().sum() / df_patient.patient_id.count()).sort_values() * 100, 2)"
   ]
  },
  {
   "cell_type": "code",
   "execution_count": 8,
   "metadata": {},
   "outputs": [
    {
     "data": {
      "text/html": [
       "<div>\n",
       "<style scoped>\n",
       "    .dataframe tbody tr th:only-of-type {\n",
       "        vertical-align: middle;\n",
       "    }\n",
       "\n",
       "    .dataframe tbody tr th {\n",
       "        vertical-align: top;\n",
       "    }\n",
       "\n",
       "    .dataframe thead th {\n",
       "        text-align: right;\n",
       "    }\n",
       "</style>\n",
       "<table border=\"1\" class=\"dataframe\">\n",
       "  <thead>\n",
       "    <tr style=\"text-align: right;\">\n",
       "      <th></th>\n",
       "      <th>patient_id</th>\n",
       "      <th>given_name</th>\n",
       "      <th>surname</th>\n",
       "      <th>street_number</th>\n",
       "      <th>address_1</th>\n",
       "      <th>suburb</th>\n",
       "      <th>postcode</th>\n",
       "      <th>state</th>\n",
       "      <th>date_of_birth</th>\n",
       "      <th>age</th>\n",
       "      <th>phone_number</th>\n",
       "      <th>address_2</th>\n",
       "    </tr>\n",
       "  </thead>\n",
       "  <tbody>\n",
       "  </tbody>\n",
       "</table>\n",
       "</div>"
      ],
      "text/plain": [
       "Empty DataFrame\n",
       "Columns: [patient_id, given_name, surname, street_number, address_1, suburb, postcode, state, date_of_birth, age, phone_number, address_2]\n",
       "Index: []"
      ]
     },
     "execution_count": 8,
     "metadata": {},
     "output_type": "execute_result"
    }
   ],
   "source": [
    "# all features which are less 5% of NaN values\n",
    "# checking of NaN values with multiple conditions\n",
    "df_patient[(df_patient.given_name.isna()) & (df_patient.surname.isna()) & (df_patient.street_number.isna()) & \\\n",
    "          (df_patient.address_1.isna()) & (df_patient.suburb.isna()) & (df_patient.postcode.isna()) & \\\n",
    "           (df_patient.phone_number.isna())]"
   ]
  },
  {
   "cell_type": "markdown",
   "metadata": {},
   "source": [
    "*Quels sont les types des différentes variables ?*\n",
    "* 3 variables sont des flottants (float)\n",
    "* 8 variables des chaînes de caractère (string)"
   ]
  },
  {
   "cell_type": "code",
   "execution_count": 9,
   "metadata": {
    "scrolled": true
   },
   "outputs": [
    {
     "name": "stdout",
     "output_type": "stream",
     "text": [
      "<class 'pandas.core.frame.DataFrame'>\n",
      "RangeIndex: 20000 entries, 0 to 19999\n",
      "Data columns (total 12 columns):\n",
      " #   Column         Non-Null Count  Dtype  \n",
      "---  ------         --------------  -----  \n",
      " 0   patient_id     20000 non-null  int64  \n",
      " 1   given_name     19560 non-null  object \n",
      " 2   surname        19575 non-null  object \n",
      " 3   street_number  19618 non-null  float64\n",
      " 4   address_1      19204 non-null  object \n",
      " 5   suburb         19788 non-null  object \n",
      " 6   postcode       19801 non-null  object \n",
      " 7   state          18010 non-null  object \n",
      " 8   date_of_birth  17989 non-null  float64\n",
      " 9   age            16003 non-null  float64\n",
      " 10  phone_number   19081 non-null  object \n",
      " 11  address_2      7893 non-null   object \n",
      "dtypes: float64(3), int64(1), object(8)\n",
      "memory usage: 1.8+ MB\n"
     ]
    }
   ],
   "source": [
    "df_patient.info()"
   ]
  },
  {
   "cell_type": "markdown",
   "metadata": {},
   "source": [
    "#### Analyse des variables quantitatives"
   ]
  },
  {
   "cell_type": "code",
   "execution_count": 10,
   "metadata": {
    "scrolled": true
   },
   "outputs": [
    {
     "data": {
      "text/html": [
       "<div>\n",
       "<style scoped>\n",
       "    .dataframe tbody tr th:only-of-type {\n",
       "        vertical-align: middle;\n",
       "    }\n",
       "\n",
       "    .dataframe tbody tr th {\n",
       "        vertical-align: top;\n",
       "    }\n",
       "\n",
       "    .dataframe thead th {\n",
       "        text-align: right;\n",
       "    }\n",
       "</style>\n",
       "<table border=\"1\" class=\"dataframe\">\n",
       "  <thead>\n",
       "    <tr style=\"text-align: right;\">\n",
       "      <th></th>\n",
       "      <th>given_name</th>\n",
       "      <th>surname</th>\n",
       "      <th>address_1</th>\n",
       "      <th>suburb</th>\n",
       "      <th>postcode</th>\n",
       "      <th>state</th>\n",
       "      <th>phone_number</th>\n",
       "      <th>address_2</th>\n",
       "    </tr>\n",
       "  </thead>\n",
       "  <tbody>\n",
       "    <tr>\n",
       "      <th>count</th>\n",
       "      <td>19560</td>\n",
       "      <td>19575</td>\n",
       "      <td>19204</td>\n",
       "      <td>19788</td>\n",
       "      <td>19801</td>\n",
       "      <td>18010</td>\n",
       "      <td>19081</td>\n",
       "      <td>7893</td>\n",
       "    </tr>\n",
       "    <tr>\n",
       "      <th>unique</th>\n",
       "      <td>1171</td>\n",
       "      <td>4273</td>\n",
       "      <td>4326</td>\n",
       "      <td>2925</td>\n",
       "      <td>2021</td>\n",
       "      <td>102</td>\n",
       "      <td>17916</td>\n",
       "      <td>3460</td>\n",
       "    </tr>\n",
       "    <tr>\n",
       "      <th>top</th>\n",
       "      <td>emiily</td>\n",
       "      <td>white</td>\n",
       "      <td>paul coe crescent</td>\n",
       "      <td>toowoomba</td>\n",
       "      <td>4350</td>\n",
       "      <td>nsw</td>\n",
       "      <td>08 62513595</td>\n",
       "      <td>brentwood vlge</td>\n",
       "    </tr>\n",
       "    <tr>\n",
       "      <th>freq</th>\n",
       "      <td>373</td>\n",
       "      <td>539</td>\n",
       "      <td>57</td>\n",
       "      <td>167</td>\n",
       "      <td>96</td>\n",
       "      <td>6143</td>\n",
       "      <td>4</td>\n",
       "      <td>85</td>\n",
       "    </tr>\n",
       "  </tbody>\n",
       "</table>\n",
       "</div>"
      ],
      "text/plain": [
       "       given_name surname          address_1     suburb postcode  state  \\\n",
       "count       19560   19575              19204      19788    19801  18010   \n",
       "unique       1171    4273               4326       2925     2021    102   \n",
       "top        emiily   white  paul coe crescent  toowoomba     4350    nsw   \n",
       "freq          373     539                 57        167       96   6143   \n",
       "\n",
       "       phone_number       address_2  \n",
       "count         19081            7893  \n",
       "unique        17916            3460  \n",
       "top     08 62513595  brentwood vlge  \n",
       "freq              4              85  "
      ]
     },
     "execution_count": 10,
     "metadata": {},
     "output_type": "execute_result"
    }
   ],
   "source": [
    "df_patient.describe(include=['O'])"
   ]
  },
  {
   "cell_type": "markdown",
   "metadata": {},
   "source": [
    "Source pour l'écriture d'une adresse en Australie : https://www.parcelmonkey.com/how-to-guides/how-to-address-mail-to-australia\n",
    "* street_number address_1\n",
    "* suburb state postcode\n",
    "\n",
    "La variable **address_2** avec son grand nombre de valeurs manquantes (**60.54%**) n'est pas nécessaire à notre étude. Elle sera supprimée de notre jeu de données."
   ]
  },
  {
   "cell_type": "markdown",
   "metadata": {},
   "source": [
    "*Suppression de la variable **address_2** de notre dataframe.*"
   ]
  },
  {
   "cell_type": "code",
   "execution_count": 11,
   "metadata": {
    "scrolled": true
   },
   "outputs": [],
   "source": [
    "df_patient = df_patient.drop(columns='address_2')"
   ]
  },
  {
   "cell_type": "markdown",
   "metadata": {},
   "source": [
    "**Cohérence des variables quantitatives :**\n",
    "\n",
    "Pour vérifier la cohérence des valeurs de chaque variable quantitative, j'écrirai 2 fonctions de recherche de valeurs :\n",
    "* l'une alphabétique appelée *search_alphabetic_values* ;\n",
    "* l'autre numérique appelée *search_numeric_values*.\n",
    "\n",
    "Ces fonctions utiliseront les expressions regulières (module *re*)."
   ]
  },
  {
   "cell_type": "code",
   "execution_count": 12,
   "metadata": {},
   "outputs": [],
   "source": [
    "def search_alphabetic_values(value):\n",
    "    \"\"\"\n",
    "    This function allows the identification of alphabetic values.\n",
    "        It returns a string or a NoneType according to the length of the result of re.findall.\n",
    "    \n",
    "    @parameters\n",
    "        value: string\n",
    "    @return\n",
    "        result: string or NoneType\n",
    "    \"\"\"\n",
    "    result = re.findall(r'\\b\\D+\\B', value)\n",
    "    if len(result) != 0:\n",
    "        return result[0]"
   ]
  },
  {
   "cell_type": "code",
   "execution_count": 13,
   "metadata": {},
   "outputs": [],
   "source": [
    "def search_numeric_values(value):\n",
    "    \"\"\"\n",
    "    This function allows the identification of numeric values.\n",
    "        It returns a string or a NoneType according to the length of the result of re.findall.\n",
    "    \n",
    "    @parameters\n",
    "        value: string\n",
    "    @return\n",
    "        result: string or NoneType\n",
    "    \"\"\"\n",
    "    result = re.findall(r'\\b\\d+', value)\n",
    "    if len(result) != 0:\n",
    "        return result[0]"
   ]
  },
  {
   "cell_type": "code",
   "execution_count": 14,
   "metadata": {},
   "outputs": [],
   "source": [
    "# Fill NaN by simple values\n",
    "df_patient.given_name = df_patient.given_name.fillna(\"\")\n",
    "df_patient.surname = df_patient.surname.fillna(\"\")\n",
    "df_patient.address_1 = df_patient.address_1.fillna(\"\")\n",
    "df_patient.suburb = df_patient.suburb.fillna(\"\")\n",
    "df_patient.postcode = df_patient.postcode.fillna('0')\n",
    "df_patient.state = df_patient.state.fillna(\"\")\n",
    "df_patient.phone_number = df_patient.phone_number.fillna('0')"
   ]
  },
  {
   "cell_type": "code",
   "execution_count": 15,
   "metadata": {},
   "outputs": [],
   "source": [
    "# Select all object type's columns\n",
    "columns = list(df_patient.select_dtypes(include=['object']).columns.values)"
   ]
  },
  {
   "cell_type": "markdown",
   "metadata": {},
   "source": [
    "* Les variables **given_name**, **surname** et **state** semblent cohérentes car ne comportent aucune valeur numérique.\n",
    "* La variable **address_1** comportent 2 valeurs numériques qui sont en réalité des valeurs alphanumériques désignant le domicile exact de la personne.\n",
    "* Les variables **suburb** et **postcode** comptent chacun 14 valeurs incohérentes :\n",
    "    * en affichant toutes les valeurs Incohérentes de l'un ou l'autre des variables, je m'aperçois que la taille du dataframe est le même avec les mêmes valeurs d'indexes.\n",
    "    * par conséquent,il y a des erreurs de saisie pour ces lignes en inversant les variables : **postcode** dans **suburb** et vis-versa. Il faudra donc les remettre dans l'ordre avant tout.\n",
    "* La variable **phone_number** quant à elle est totalement cohérente car ne comporte aucune valeur alphabétique."
   ]
  },
  {
   "cell_type": "code",
   "execution_count": 16,
   "metadata": {},
   "outputs": [
    {
     "data": {
      "text/html": [
       "<div>\n",
       "<style scoped>\n",
       "    .dataframe tbody tr th:only-of-type {\n",
       "        vertical-align: middle;\n",
       "    }\n",
       "\n",
       "    .dataframe tbody tr th {\n",
       "        vertical-align: top;\n",
       "    }\n",
       "\n",
       "    .dataframe thead th {\n",
       "        text-align: right;\n",
       "    }\n",
       "</style>\n",
       "<table border=\"1\" class=\"dataframe\">\n",
       "  <thead>\n",
       "    <tr style=\"text-align: right;\">\n",
       "      <th></th>\n",
       "      <th>coherence_checking</th>\n",
       "    </tr>\n",
       "  </thead>\n",
       "  <tbody>\n",
       "    <tr>\n",
       "      <th>given_name</th>\n",
       "      <td>0</td>\n",
       "    </tr>\n",
       "    <tr>\n",
       "      <th>surname</th>\n",
       "      <td>0</td>\n",
       "    </tr>\n",
       "    <tr>\n",
       "      <th>address_1</th>\n",
       "      <td>2</td>\n",
       "    </tr>\n",
       "    <tr>\n",
       "      <th>suburb</th>\n",
       "      <td>14</td>\n",
       "    </tr>\n",
       "    <tr>\n",
       "      <th>postcode</th>\n",
       "      <td>14</td>\n",
       "    </tr>\n",
       "    <tr>\n",
       "      <th>state</th>\n",
       "      <td>0</td>\n",
       "    </tr>\n",
       "    <tr>\n",
       "      <th>phone_number</th>\n",
       "      <td>0</td>\n",
       "    </tr>\n",
       "  </tbody>\n",
       "</table>\n",
       "</div>"
      ],
      "text/plain": [
       "              coherence_checking\n",
       "given_name                     0\n",
       "surname                        0\n",
       "address_1                      2\n",
       "suburb                        14\n",
       "postcode                      14\n",
       "state                          0\n",
       "phone_number                   0"
      ]
     },
     "execution_count": 16,
     "metadata": {},
     "output_type": "execute_result"
    }
   ],
   "source": [
    "# Figure number of alphabetic or numeric values out \n",
    "number_checking = {}\n",
    "for column in columns:\n",
    "    if column in ['postcode', 'phone_number']:\n",
    "        number_checking[column] = df_patient[column].count() - df_patient[column].apply(search_alphabetic_values).\\\n",
    "                                                                                                    isna().sum()\n",
    "    else:\n",
    "        number_checking[column] = df_patient[column].count() - df_patient[column].apply(search_numeric_values).\\\n",
    "                                                                                                    isna().sum()\n",
    "\n",
    "# View results by a DataFrame\n",
    "df_checking = pd.DataFrame.from_dict(number_checking, orient='index', columns=['coherence_checking'])\n",
    "df_checking.loc[:]"
   ]
  },
  {
   "cell_type": "code",
   "execution_count": 17,
   "metadata": {
    "scrolled": true
   },
   "outputs": [
    {
     "data": {
      "text/html": [
       "<div>\n",
       "<style scoped>\n",
       "    .dataframe tbody tr th:only-of-type {\n",
       "        vertical-align: middle;\n",
       "    }\n",
       "\n",
       "    .dataframe tbody tr th {\n",
       "        vertical-align: top;\n",
       "    }\n",
       "\n",
       "    .dataframe thead th {\n",
       "        text-align: right;\n",
       "    }\n",
       "</style>\n",
       "<table border=\"1\" class=\"dataframe\">\n",
       "  <thead>\n",
       "    <tr style=\"text-align: right;\">\n",
       "      <th></th>\n",
       "      <th>patient_id</th>\n",
       "      <th>given_name</th>\n",
       "      <th>surname</th>\n",
       "      <th>street_number</th>\n",
       "      <th>address_1</th>\n",
       "      <th>suburb</th>\n",
       "      <th>postcode</th>\n",
       "      <th>state</th>\n",
       "      <th>date_of_birth</th>\n",
       "      <th>age</th>\n",
       "      <th>phone_number</th>\n",
       "    </tr>\n",
       "  </thead>\n",
       "  <tbody>\n",
       "    <tr>\n",
       "      <th>1322</th>\n",
       "      <td>313942</td>\n",
       "      <td>joe</td>\n",
       "      <td>reimef</td>\n",
       "      <td>68.0</td>\n",
       "      <td>home 186</td>\n",
       "      <td>windsor</td>\n",
       "      <td>7019</td>\n",
       "      <td>nsw</td>\n",
       "      <td>19581213.0</td>\n",
       "      <td>26.0</td>\n",
       "      <td>04 22861452</td>\n",
       "    </tr>\n",
       "    <tr>\n",
       "      <th>3763</th>\n",
       "      <td>186516</td>\n",
       "      <td>hannah</td>\n",
       "      <td>clarke</td>\n",
       "      <td>6.0</td>\n",
       "      <td>villa 3</td>\n",
       "      <td>brighton-le-sands</td>\n",
       "      <td>3996</td>\n",
       "      <td>qln</td>\n",
       "      <td>19730115.0</td>\n",
       "      <td>NaN</td>\n",
       "      <td>07 53595738</td>\n",
       "    </tr>\n",
       "  </tbody>\n",
       "</table>\n",
       "</div>"
      ],
      "text/plain": [
       "      patient_id given_name surname  street_number address_1  \\\n",
       "1322      313942        joe  reimef           68.0  home 186   \n",
       "3763      186516     hannah  clarke            6.0   villa 3   \n",
       "\n",
       "                 suburb postcode state  date_of_birth   age phone_number  \n",
       "1322            windsor     7019   nsw     19581213.0  26.0  04 22861452  \n",
       "3763  brighton-le-sands     3996   qln     19730115.0   NaN  07 53595738  "
      ]
     },
     "execution_count": 17,
     "metadata": {},
     "output_type": "execute_result"
    }
   ],
   "source": [
    "# Numeric values in feature address_1\n",
    "df_patient[df_patient.address_1.apply(search_numeric_values).isna() == False]"
   ]
  },
  {
   "cell_type": "code",
   "execution_count": 18,
   "metadata": {},
   "outputs": [
    {
     "data": {
      "text/html": [
       "<div>\n",
       "<style scoped>\n",
       "    .dataframe tbody tr th:only-of-type {\n",
       "        vertical-align: middle;\n",
       "    }\n",
       "\n",
       "    .dataframe tbody tr th {\n",
       "        vertical-align: top;\n",
       "    }\n",
       "\n",
       "    .dataframe thead th {\n",
       "        text-align: right;\n",
       "    }\n",
       "</style>\n",
       "<table border=\"1\" class=\"dataframe\">\n",
       "  <thead>\n",
       "    <tr style=\"text-align: right;\">\n",
       "      <th></th>\n",
       "      <th>patient_id</th>\n",
       "      <th>given_name</th>\n",
       "      <th>surname</th>\n",
       "      <th>street_number</th>\n",
       "      <th>address_1</th>\n",
       "      <th>suburb</th>\n",
       "      <th>postcode</th>\n",
       "      <th>state</th>\n",
       "      <th>date_of_birth</th>\n",
       "      <th>age</th>\n",
       "      <th>phone_number</th>\n",
       "    </tr>\n",
       "  </thead>\n",
       "  <tbody>\n",
       "    <tr>\n",
       "      <th>3976</th>\n",
       "      <td>810644</td>\n",
       "      <td>juliana</td>\n",
       "      <td>grosvenor</td>\n",
       "      <td>5.0</td>\n",
       "      <td>connelly pace</td>\n",
       "      <td>3023</td>\n",
       "      <td>port noarlunga south</td>\n",
       "      <td>tas</td>\n",
       "      <td>19991215.0</td>\n",
       "      <td>NaN</td>\n",
       "      <td>03 55227740</td>\n",
       "    </tr>\n",
       "    <tr>\n",
       "      <th>4080</th>\n",
       "      <td>986559</td>\n",
       "      <td>kirra</td>\n",
       "      <td>choi-lundberg</td>\n",
       "      <td>102.0</td>\n",
       "      <td>centaurus street</td>\n",
       "      <td>6168</td>\n",
       "      <td>naremburn</td>\n",
       "      <td>vic</td>\n",
       "      <td>19261104.0</td>\n",
       "      <td>27.0</td>\n",
       "      <td>08 69584599</td>\n",
       "    </tr>\n",
       "    <tr>\n",
       "      <th>5792</th>\n",
       "      <td>752873</td>\n",
       "      <td>lochlan</td>\n",
       "      <td>blake</td>\n",
       "      <td>258.0</td>\n",
       "      <td></td>\n",
       "      <td>4216</td>\n",
       "      <td>toowoobma</td>\n",
       "      <td>wa</td>\n",
       "      <td>19080821.0</td>\n",
       "      <td>31.0</td>\n",
       "      <td>02 84630666</td>\n",
       "    </tr>\n",
       "    <tr>\n",
       "      <th>6218</th>\n",
       "      <td>902348</td>\n",
       "      <td>isaac</td>\n",
       "      <td>nakoje</td>\n",
       "      <td>19.0</td>\n",
       "      <td>collier street</td>\n",
       "      <td>6017</td>\n",
       "      <td>brighton</td>\n",
       "      <td></td>\n",
       "      <td>19640421.0</td>\n",
       "      <td>8.0</td>\n",
       "      <td>02 69439226</td>\n",
       "    </tr>\n",
       "    <tr>\n",
       "      <th>6618</th>\n",
       "      <td>678110</td>\n",
       "      <td>jaden</td>\n",
       "      <td>green</td>\n",
       "      <td>5.0</td>\n",
       "      <td>dovey place</td>\n",
       "      <td>3185</td>\n",
       "      <td>oraneg</td>\n",
       "      <td>vic</td>\n",
       "      <td>19151204.0</td>\n",
       "      <td>23.0</td>\n",
       "      <td>02 73534391</td>\n",
       "    </tr>\n",
       "    <tr>\n",
       "      <th>9653</th>\n",
       "      <td>690348</td>\n",
       "      <td>andrew</td>\n",
       "      <td>ryan</td>\n",
       "      <td>20.0</td>\n",
       "      <td>mainwaring rich circuit</td>\n",
       "      <td>3020</td>\n",
       "      <td>blacktown</td>\n",
       "      <td>wa</td>\n",
       "      <td>19760001.0</td>\n",
       "      <td>22.0</td>\n",
       "      <td>0</td>\n",
       "    </tr>\n",
       "    <tr>\n",
       "      <th>9718</th>\n",
       "      <td>727290</td>\n",
       "      <td>tiffany</td>\n",
       "      <td>loukes</td>\n",
       "      <td>31.0</td>\n",
       "      <td>leal place</td>\n",
       "      <td>467l0</td>\n",
       "      <td>forest hill</td>\n",
       "      <td>nsw</td>\n",
       "      <td>19760706.0</td>\n",
       "      <td>23.0</td>\n",
       "      <td>0</td>\n",
       "    </tr>\n",
       "    <tr>\n",
       "      <th>11333</th>\n",
       "      <td>738103</td>\n",
       "      <td>hugi</td>\n",
       "      <td>pascoe</td>\n",
       "      <td>167.0</td>\n",
       "      <td>leita court</td>\n",
       "      <td>3023</td>\n",
       "      <td>port lincoln</td>\n",
       "      <td>nsw</td>\n",
       "      <td>19040401.0</td>\n",
       "      <td>NaN</td>\n",
       "      <td>07 84786511</td>\n",
       "    </tr>\n",
       "    <tr>\n",
       "      <th>14255</th>\n",
       "      <td>684359</td>\n",
       "      <td>sonia</td>\n",
       "      <td>green</td>\n",
       "      <td>50.0</td>\n",
       "      <td>kalgoorlie crescent</td>\n",
       "      <td>6112</td>\n",
       "      <td>ashfield</td>\n",
       "      <td>sa</td>\n",
       "      <td>NaN</td>\n",
       "      <td>9.0</td>\n",
       "      <td>03 46671647</td>\n",
       "    </tr>\n",
       "    <tr>\n",
       "      <th>15479</th>\n",
       "      <td>355033</td>\n",
       "      <td>abby</td>\n",
       "      <td>yoob</td>\n",
       "      <td>243.0</td>\n",
       "      <td>weston street</td>\n",
       "      <td>3181</td>\n",
       "      <td>forest hill</td>\n",
       "      <td></td>\n",
       "      <td>19660615.0</td>\n",
       "      <td>26.0</td>\n",
       "      <td>02 68667816</td>\n",
       "    </tr>\n",
       "    <tr>\n",
       "      <th>15575</th>\n",
       "      <td>572694</td>\n",
       "      <td>isabella</td>\n",
       "      <td>beddimg</td>\n",
       "      <td>17.0</td>\n",
       "      <td>heidelberg street</td>\n",
       "      <td>3764</td>\n",
       "      <td>toowoomba</td>\n",
       "      <td>nsw</td>\n",
       "      <td>19510108.0</td>\n",
       "      <td>NaN</td>\n",
       "      <td>03 01075733</td>\n",
       "    </tr>\n",
       "    <tr>\n",
       "      <th>18658</th>\n",
       "      <td>132735</td>\n",
       "      <td>jairys</td>\n",
       "      <td>dent</td>\n",
       "      <td>2.0</td>\n",
       "      <td>hilder street</td>\n",
       "      <td>4214</td>\n",
       "      <td>regents park</td>\n",
       "      <td>qld</td>\n",
       "      <td>19810913.0</td>\n",
       "      <td>31.0</td>\n",
       "      <td>02 92264278</td>\n",
       "    </tr>\n",
       "    <tr>\n",
       "      <th>18784</th>\n",
       "      <td>241868</td>\n",
       "      <td>elly</td>\n",
       "      <td>webb</td>\n",
       "      <td>195.0</td>\n",
       "      <td>duigan street</td>\n",
       "      <td>4160</td>\n",
       "      <td>kelmscott</td>\n",
       "      <td></td>\n",
       "      <td>19760507.0</td>\n",
       "      <td>27.0</td>\n",
       "      <td>04 01285849</td>\n",
       "    </tr>\n",
       "    <tr>\n",
       "      <th>19150</th>\n",
       "      <td>674065</td>\n",
       "      <td>nichalas</td>\n",
       "      <td>mason</td>\n",
       "      <td>74.0</td>\n",
       "      <td>murphy street</td>\n",
       "      <td>3133</td>\n",
       "      <td>donnybrook</td>\n",
       "      <td>vic</td>\n",
       "      <td>19070525.0</td>\n",
       "      <td>24.0</td>\n",
       "      <td>0</td>\n",
       "    </tr>\n",
       "  </tbody>\n",
       "</table>\n",
       "</div>"
      ],
      "text/plain": [
       "       patient_id given_name        surname  street_number  \\\n",
       "3976       810644    juliana      grosvenor            5.0   \n",
       "4080       986559      kirra  choi-lundberg          102.0   \n",
       "5792       752873    lochlan          blake          258.0   \n",
       "6218       902348      isaac         nakoje           19.0   \n",
       "6618       678110      jaden          green            5.0   \n",
       "9653       690348     andrew           ryan           20.0   \n",
       "9718       727290    tiffany         loukes           31.0   \n",
       "11333      738103       hugi         pascoe          167.0   \n",
       "14255      684359      sonia          green           50.0   \n",
       "15479      355033       abby           yoob          243.0   \n",
       "15575      572694   isabella        beddimg           17.0   \n",
       "18658      132735     jairys           dent            2.0   \n",
       "18784      241868       elly           webb          195.0   \n",
       "19150      674065   nichalas          mason           74.0   \n",
       "\n",
       "                     address_1 suburb              postcode state  \\\n",
       "3976             connelly pace   3023  port noarlunga south   tas   \n",
       "4080          centaurus street   6168             naremburn   vic   \n",
       "5792                             4216             toowoobma    wa   \n",
       "6218            collier street   6017              brighton         \n",
       "6618               dovey place   3185                oraneg   vic   \n",
       "9653   mainwaring rich circuit   3020             blacktown    wa   \n",
       "9718                leal place  467l0           forest hill   nsw   \n",
       "11333              leita court   3023          port lincoln   nsw   \n",
       "14255      kalgoorlie crescent   6112              ashfield    sa   \n",
       "15479            weston street   3181           forest hill         \n",
       "15575        heidelberg street   3764             toowoomba   nsw   \n",
       "18658            hilder street   4214          regents park   qld   \n",
       "18784            duigan street   4160             kelmscott         \n",
       "19150            murphy street   3133            donnybrook   vic   \n",
       "\n",
       "       date_of_birth   age phone_number  \n",
       "3976      19991215.0   NaN  03 55227740  \n",
       "4080      19261104.0  27.0  08 69584599  \n",
       "5792      19080821.0  31.0  02 84630666  \n",
       "6218      19640421.0   8.0  02 69439226  \n",
       "6618      19151204.0  23.0  02 73534391  \n",
       "9653      19760001.0  22.0            0  \n",
       "9718      19760706.0  23.0            0  \n",
       "11333     19040401.0   NaN  07 84786511  \n",
       "14255            NaN   9.0  03 46671647  \n",
       "15479     19660615.0  26.0  02 68667816  \n",
       "15575     19510108.0   NaN  03 01075733  \n",
       "18658     19810913.0  31.0  02 92264278  \n",
       "18784     19760507.0  27.0  04 01285849  \n",
       "19150     19070525.0  24.0            0  "
      ]
     },
     "execution_count": 18,
     "metadata": {},
     "output_type": "execute_result"
    }
   ],
   "source": [
    "# Numeric values in feature suburb or alphabetic values in feature postcode\n",
    "df_patient[(df_patient.suburb.apply(search_numeric_values).isna() == False) | \\\n",
    "           (df_patient.postcode.apply(search_alphabetic_values).isna() == False)]"
   ]
  },
  {
   "cell_type": "markdown",
   "metadata": {},
   "source": [
    "L'Australie compte 6 États et 2 Territoires selon le site officiel du tourisme australien (https://www.australia.com/en/facts-and-planning/about-australia/cities-states-and-territories.html).\n",
    "Ces États et Territoires (dans notre dataframe représentés par la variable **state**) sont :\n",
    "* Australian Capital Territory (**act**) ;\n",
    "* New South Wales (**nsw**) ;\n",
    "* Northern Territory (**nt**) ;\n",
    "* Queensland (**qld**) ;\n",
    "* South Australia (**sa**) ;\n",
    "* Tasmania (**tas**) ;\n",
    "* Victoria (**vic**) ;\n",
    "* et Western Australia (**wa**).\n",
    "\n",
    "Mais notre variable **state** compte 103 valeurs différentes (en ajoutant la valeur **\"\"** chaîne vide qui a servi à remplir les valeurs manquantes) : cela indique qu'il y a plusieurs erreurs de saisie (*139 au total*). Notre variable sera donc sujet à correction."
   ]
  },
  {
   "cell_type": "code",
   "execution_count": 19,
   "metadata": {},
   "outputs": [
    {
     "data": {
      "text/plain": [
       "<matplotlib.axes._subplots.AxesSubplot at 0x7fdac473b400>"
      ]
     },
     "execution_count": 19,
     "metadata": {},
     "output_type": "execute_result"
    },
    {
     "data": {
      "image/png": "[encoded data removed]",
      "text/plain": [
       "<Figure size 576x1440 with 1 Axes>"
      ]
     },
     "metadata": {},
     "output_type": "display_data"
    }
   ],
   "source": [
    "fig, ax = plt.subplots(figsize=(8, 20))\n",
    "sns.countplot(y=df_patient.state, ax=ax)"
   ]
  },
  {
   "cell_type": "code",
   "execution_count": 20,
   "metadata": {},
   "outputs": [
    {
     "data": {
      "text/plain": [
       "count     20000\n",
       "unique      103\n",
       "top         nsw\n",
       "freq       6143\n",
       "Name: state, dtype: object"
      ]
     },
     "execution_count": 20,
     "metadata": {},
     "output_type": "execute_result"
    }
   ],
   "source": [
    "df_patient.state.describe()"
   ]
  },
  {
   "cell_type": "code",
   "execution_count": 21,
   "metadata": {},
   "outputs": [
    {
     "data": {
      "text/plain": [
       "139"
      ]
     },
     "execution_count": 21,
     "metadata": {},
     "output_type": "execute_result"
    }
   ],
   "source": [
    "# Value counts which are errors\n",
    "(~df_patient.state.isin(['act', 'nsw', 'nt', 'qld', 'sa', 'tas', 'vic', 'wa', \"\"])).sum()"
   ]
  },
  {
   "cell_type": "markdown",
   "metadata": {},
   "source": [
    "Vérification des codes postaux (variable **postcode**). Nous comptons 14 intervalles de codes postaux correspondants aux différents États et Territoires selon le site de la poste australienne (https://postcode.auspost.com.au/free_display.html?id=1) :\n",
    "* 0200-0299 : act\n",
    "* 0800-0999 : nt\n",
    "* 1000-2599 : nsw\n",
    "* 2600-2619 : act\n",
    "* 2620-2899 : nsw\n",
    "* 2900-2920 : act\n",
    "* 2921-2999 : nsw\n",
    "* 3000-3999 : vic\n",
    "* 4000-4999 : qld\n",
    "* 5000-5999 : sa\n",
    "* 6000-6999 : wa\n",
    "* 7000-7999 : tas\n",
    "* 8000-8999 : vic\n",
    "* 9000-9999 : qld\n",
    "\n",
    "Cette relation entre les variables **postcode** et **state** me permettra de faire l'imputation des valeurs manquantes et la correction des erreurs de saisie de la variable **state**."
   ]
  },
  {
   "cell_type": "markdown",
   "metadata": {},
   "source": [
    "*Traitement de la variable **postcode** :*\n",
    "* remplacer les valeurs manquantes par '0' (nous avons seulement **1%** de valeurs manquantes) ;\n",
    "    * **tâche réalisée plus haut.**\n",
    "* calculer la proportion de valeurs alphabétiques présentes ;\n",
    "    * **tâche réalisée plus haut.**\n",
    "* corriger les valeurs alphabétiques présentes par les valeurs correspondantes de la variable **suburb** ;\n",
    "* changer le type de cette variable par le type numpy.int64 ;\n",
    "* supprimer toutes les lignes qui ont pour valeur '0' ; la variable **postcode** a le plus faible pourcentage de valeurs manquantes et il est de **1%** ;\n",
    "* vérifier que les valeurs numériques correspondent à celles données par la poste australienne."
   ]
  },
  {
   "cell_type": "code",
   "execution_count": 22,
   "metadata": {},
   "outputs": [
    {
     "name": "stdout",
     "output_type": "stream",
     "text": [
      "[3976, 4080, 5792, 6218, 6618, 9653, 9718, 11333, 14255, 15479, 15575, 18658, 18784, 19150]\n"
     ]
    }
   ],
   "source": [
    "# Indexes of alphabetic values in feature postcode\n",
    "index_changing = list(df_patient[(df_patient.suburb.apply(search_numeric_values).isna() == False) | \\\n",
    "           (df_patient.postcode.apply(search_alphabetic_values).isna() == False)].index)\n",
    "\n",
    "print(index_changing)"
   ]
  },
  {
   "cell_type": "code",
   "execution_count": 23,
   "metadata": {
    "scrolled": true
   },
   "outputs": [
    {
     "name": "stderr",
     "output_type": "stream",
     "text": [
      "/opt/anaconda3/lib/python3.8/site-packages/pandas/core/indexing.py:671: SettingWithCopyWarning: \n",
      "A value is trying to be set on a copy of a slice from a DataFrame\n",
      "\n",
      "See the caveats in the documentation: https://pandas.pydata.org/pandas-docs/stable/user_guide/indexing.html#returning-a-view-versus-a-copy\n",
      "  self._setitem_with_indexer(indexer, value)\n"
     ]
    }
   ],
   "source": [
    "# Change alphabetic values by numeric values of feature suburb\n",
    "transition = \"\"\n",
    "for index in index_changing:\n",
    "    transition = df_patient.postcode.iloc[index]\n",
    "    df_patient.postcode.iloc[index] = df_patient.suburb.iloc[index]\n",
    "    df_patient.suburb.iloc[index] = transition"
   ]
  },
  {
   "cell_type": "code",
   "execution_count": 24,
   "metadata": {
    "scrolled": true
   },
   "outputs": [
    {
     "data": {
      "text/html": [
       "<div>\n",
       "<style scoped>\n",
       "    .dataframe tbody tr th:only-of-type {\n",
       "        vertical-align: middle;\n",
       "    }\n",
       "\n",
       "    .dataframe tbody tr th {\n",
       "        vertical-align: top;\n",
       "    }\n",
       "\n",
       "    .dataframe thead th {\n",
       "        text-align: right;\n",
       "    }\n",
       "</style>\n",
       "<table border=\"1\" class=\"dataframe\">\n",
       "  <thead>\n",
       "    <tr style=\"text-align: right;\">\n",
       "      <th></th>\n",
       "      <th>patient_id</th>\n",
       "      <th>given_name</th>\n",
       "      <th>surname</th>\n",
       "      <th>street_number</th>\n",
       "      <th>address_1</th>\n",
       "      <th>suburb</th>\n",
       "      <th>postcode</th>\n",
       "      <th>state</th>\n",
       "      <th>date_of_birth</th>\n",
       "      <th>age</th>\n",
       "      <th>phone_number</th>\n",
       "    </tr>\n",
       "  </thead>\n",
       "  <tbody>\n",
       "  </tbody>\n",
       "</table>\n",
       "</div>"
      ],
      "text/plain": [
       "Empty DataFrame\n",
       "Columns: [patient_id, given_name, surname, street_number, address_1, suburb, postcode, state, date_of_birth, age, phone_number]\n",
       "Index: []"
      ]
     },
     "execution_count": 24,
     "metadata": {},
     "output_type": "execute_result"
    }
   ],
   "source": [
    "# Change checking\n",
    "df_patient[(df_patient.suburb.apply(search_numeric_values).isna() == False) | \\\n",
    "           (df_patient.postcode.apply(search_alphabetic_values).isna() == False)]"
   ]
  },
  {
   "cell_type": "markdown",
   "metadata": {},
   "source": [
    "La correction des valeurs a fonctionné et m'a permis de voir qu'une des valeurs de **postcode** à l'index 9718 est alphanumérique (valeur incohérente) 467l0. Je vais le corriger par la valeur 4670 (je supprime le *l*)."
   ]
  },
  {
   "cell_type": "code",
   "execution_count": 25,
   "metadata": {},
   "outputs": [
    {
     "name": "stdout",
     "output_type": "stream",
     "text": [
      "3023  at the index  3976\n",
      "6168  at the index  4080\n",
      "4216  at the index  5792\n",
      "6017  at the index  6218\n",
      "3185  at the index  6618\n",
      "3020  at the index  9653\n",
      "467l0  at the index  9718\n",
      "3023  at the index  11333\n",
      "6112  at the index  14255\n",
      "3181  at the index  15479\n",
      "3764  at the index  15575\n",
      "4214  at the index  18658\n",
      "4160  at the index  18784\n",
      "3133  at the index  19150\n"
     ]
    }
   ],
   "source": [
    "for index in index_changing:\n",
    "    print(df_patient.postcode.iloc[index], \" at the index \", index)"
   ]
  },
  {
   "cell_type": "code",
   "execution_count": 26,
   "metadata": {},
   "outputs": [
    {
     "name": "stderr",
     "output_type": "stream",
     "text": [
      "/opt/anaconda3/lib/python3.8/site-packages/pandas/core/indexing.py:671: SettingWithCopyWarning: \n",
      "A value is trying to be set on a copy of a slice from a DataFrame\n",
      "\n",
      "See the caveats in the documentation: https://pandas.pydata.org/pandas-docs/stable/user_guide/indexing.html#returning-a-view-versus-a-copy\n",
      "  self._setitem_with_indexer(indexer, value)\n"
     ]
    }
   ],
   "source": [
    "# Correct alphanumeric value by deleting the character l\n",
    "df_patient.postcode.iloc[9718] = '4670'"
   ]
  },
  {
   "cell_type": "code",
   "execution_count": 27,
   "metadata": {},
   "outputs": [],
   "source": [
    "# Change the type of feature postcode\n",
    "df_patient.postcode = df_patient.postcode.astype(np.int64)"
   ]
  },
  {
   "cell_type": "code",
   "execution_count": 28,
   "metadata": {},
   "outputs": [],
   "source": [
    "# Delete '0' values's rows\n",
    "df_patient = df_patient[df_patient.postcode != 0]"
   ]
  },
  {
   "cell_type": "code",
   "execution_count": 29,
   "metadata": {},
   "outputs": [
    {
     "name": "stdout",
     "output_type": "stream",
     "text": [
      "<class 'pandas.core.frame.DataFrame'>\n",
      "Int64Index: 19801 entries, 0 to 19999\n",
      "Data columns (total 11 columns):\n",
      " #   Column         Non-Null Count  Dtype  \n",
      "---  ------         --------------  -----  \n",
      " 0   patient_id     19801 non-null  int64  \n",
      " 1   given_name     19801 non-null  object \n",
      " 2   surname        19801 non-null  object \n",
      " 3   street_number  19422 non-null  float64\n",
      " 4   address_1      19801 non-null  object \n",
      " 5   suburb         19801 non-null  object \n",
      " 6   postcode       19801 non-null  int64  \n",
      " 7   state          19801 non-null  object \n",
      " 8   date_of_birth  17819 non-null  float64\n",
      " 9   age            15842 non-null  float64\n",
      " 10  phone_number   19801 non-null  object \n",
      "dtypes: float64(3), int64(2), object(6)\n",
      "memory usage: 1.8+ MB\n"
     ]
    }
   ],
   "source": [
    "# Check deleting\n",
    "df_patient.info()"
   ]
  },
  {
   "cell_type": "markdown",
   "metadata": {},
   "source": [
    "**Aucune valeur** de la variable **postcode** n'est en dehors des informations de la poste australienne. Elles sont comprises entre **0200-9999**."
   ]
  },
  {
   "cell_type": "code",
   "execution_count": 30,
   "metadata": {
    "scrolled": true
   },
   "outputs": [
    {
     "data": {
      "text/plain": [
       "0"
      ]
     },
     "execution_count": 30,
     "metadata": {},
     "output_type": "execute_result"
    }
   ],
   "source": [
    "df_patient[df_patient.postcode < 200].postcode.count()"
   ]
  },
  {
   "cell_type": "code",
   "execution_count": 31,
   "metadata": {
    "scrolled": true
   },
   "outputs": [
    {
     "data": {
      "text/plain": [
       "0"
      ]
     },
     "execution_count": 31,
     "metadata": {},
     "output_type": "execute_result"
    }
   ],
   "source": [
    "df_patient[df_patient.postcode > 9999].postcode.count()"
   ]
  },
  {
   "cell_type": "markdown",
   "metadata": {},
   "source": [
    "*Traitement de la variable **suburb** :*\n",
    "* calculer la proportion des valeurs numériques présentes ;\n",
    "    * **tâche réalisée plus haut.**\n",
    "* corriger les valeurs numériques présentes par les valeurs alphabétiques de la variable **postcode** ;\n",
    "    * **tâche réalisée plus haut.**\n",
    "* corriger toutes les caractères vides \"\" (**1.06%**) par la valeur la plus fréquente alphabétique ;"
   ]
  },
  {
   "cell_type": "code",
   "execution_count": 32,
   "metadata": {
    "scrolled": true
   },
   "outputs": [
    {
     "data": {
      "text/plain": [
       "                  211\n",
       "toowoomba         167\n",
       "frankston         108\n",
       "brighton           93\n",
       "port macquarie     92\n",
       "                 ... \n",
       "ellesmere           1\n",
       "muntham             1\n",
       "mulolewa            1\n",
       "loch                1\n",
       "sherbrooke          1\n",
       "Name: suburb, Length: 2901, dtype: int64"
      ]
     },
     "execution_count": 32,
     "metadata": {},
     "output_type": "execute_result"
    }
   ],
   "source": [
    "# Before correction\n",
    "df_patient.suburb.value_counts()"
   ]
  },
  {
   "cell_type": "code",
   "execution_count": 33,
   "metadata": {},
   "outputs": [],
   "source": [
    "# Correction\n",
    "df_patient.suburb = df_patient.suburb.replace(\"\", df_patient.suburb.value_counts().index[1])"
   ]
  },
  {
   "cell_type": "code",
   "execution_count": 34,
   "metadata": {},
   "outputs": [
    {
     "data": {
      "text/plain": [
       "toowoomba           378\n",
       "frankston           108\n",
       "brighton             93\n",
       "port macquarie       92\n",
       "blacktown            92\n",
       "                   ... \n",
       "ross                  1\n",
       "rosslyn lpark         1\n",
       "meringa               1\n",
       "central wattagan      1\n",
       "wilmot                1\n",
       "Name: suburb, Length: 2900, dtype: int64"
      ]
     },
     "execution_count": 34,
     "metadata": {},
     "output_type": "execute_result"
    }
   ],
   "source": [
    "# After correction\n",
    "df_patient.suburb.value_counts()"
   ]
  },
  {
   "cell_type": "code",
   "execution_count": 35,
   "metadata": {},
   "outputs": [
    {
     "data": {
      "text/plain": [
       "0"
      ]
     },
     "execution_count": 35,
     "metadata": {},
     "output_type": "execute_result"
    }
   ],
   "source": [
    "# NaN value counts\n",
    "df_patient.suburb.isna().sum()"
   ]
  },
  {
   "cell_type": "markdown",
   "metadata": {},
   "source": [
    "*Traitement des variables **given_name** et **surname** :*\n",
    "* créer une variable **name** qui est la concaténation des deux variables ;\n",
    "* vérifier qu'il n'y a aucune valeur manquante dans la nouvelle variable **name** ;\n",
    "* supprimer les variables **given_name** et **surname**."
   ]
  },
  {
   "cell_type": "code",
   "execution_count": 36,
   "metadata": {
    "scrolled": true
   },
   "outputs": [],
   "source": [
    "# Create the feature name\n",
    "df_patient['name'] = df_patient.given_name + \" \" + df_patient.surname"
   ]
  },
  {
   "cell_type": "code",
   "execution_count": 37,
   "metadata": {
    "scrolled": true
   },
   "outputs": [
    {
     "data": {
      "text/plain": [
       "0"
      ]
     },
     "execution_count": 37,
     "metadata": {},
     "output_type": "execute_result"
    }
   ],
   "source": [
    "# Checking of NaN values in feature name\n",
    "df_patient.name.isna().sum()"
   ]
  },
  {
   "cell_type": "markdown",
   "metadata": {},
   "source": [
    "Il se trouve dans notre jeu de données *4 lignes* où le prénom et le nom n'ont pas été renseignés."
   ]
  },
  {
   "cell_type": "code",
   "execution_count": 38,
   "metadata": {
    "scrolled": true
   },
   "outputs": [
    {
     "data": {
      "text/html": [
       "<div>\n",
       "<style scoped>\n",
       "    .dataframe tbody tr th:only-of-type {\n",
       "        vertical-align: middle;\n",
       "    }\n",
       "\n",
       "    .dataframe tbody tr th {\n",
       "        vertical-align: top;\n",
       "    }\n",
       "\n",
       "    .dataframe thead th {\n",
       "        text-align: right;\n",
       "    }\n",
       "</style>\n",
       "<table border=\"1\" class=\"dataframe\">\n",
       "  <thead>\n",
       "    <tr style=\"text-align: right;\">\n",
       "      <th></th>\n",
       "      <th>patient_id</th>\n",
       "      <th>given_name</th>\n",
       "      <th>surname</th>\n",
       "      <th>street_number</th>\n",
       "      <th>address_1</th>\n",
       "      <th>suburb</th>\n",
       "      <th>postcode</th>\n",
       "      <th>state</th>\n",
       "      <th>date_of_birth</th>\n",
       "      <th>age</th>\n",
       "      <th>phone_number</th>\n",
       "      <th>name</th>\n",
       "    </tr>\n",
       "  </thead>\n",
       "  <tbody>\n",
       "    <tr>\n",
       "      <th>4598</th>\n",
       "      <td>340891</td>\n",
       "      <td></td>\n",
       "      <td></td>\n",
       "      <td>70.0</td>\n",
       "      <td>fawkner street</td>\n",
       "      <td>gorokan</td>\n",
       "      <td>3178</td>\n",
       "      <td>vic</td>\n",
       "      <td>19150429.0</td>\n",
       "      <td>24.0</td>\n",
       "      <td>07 49934506</td>\n",
       "      <td></td>\n",
       "    </tr>\n",
       "    <tr>\n",
       "      <th>6663</th>\n",
       "      <td>211362</td>\n",
       "      <td></td>\n",
       "      <td></td>\n",
       "      <td>3.0</td>\n",
       "      <td>sternberg crescent</td>\n",
       "      <td>elsterneick</td>\n",
       "      <td>2502</td>\n",
       "      <td>nsw</td>\n",
       "      <td>19000422.0</td>\n",
       "      <td>32.0</td>\n",
       "      <td>03 96314344</td>\n",
       "      <td></td>\n",
       "    </tr>\n",
       "    <tr>\n",
       "      <th>10664</th>\n",
       "      <td>644475</td>\n",
       "      <td></td>\n",
       "      <td></td>\n",
       "      <td>22.0</td>\n",
       "      <td>john xxiii college</td>\n",
       "      <td>craigmore</td>\n",
       "      <td>5046</td>\n",
       "      <td>tas</td>\n",
       "      <td>19781105.0</td>\n",
       "      <td>31.0</td>\n",
       "      <td>0</td>\n",
       "      <td></td>\n",
       "    </tr>\n",
       "    <tr>\n",
       "      <th>18526</th>\n",
       "      <td>207001</td>\n",
       "      <td></td>\n",
       "      <td></td>\n",
       "      <td>20.0</td>\n",
       "      <td>kirkwood crescent</td>\n",
       "      <td>cooroy</td>\n",
       "      <td>3231</td>\n",
       "      <td></td>\n",
       "      <td>19960825.0</td>\n",
       "      <td>30.0</td>\n",
       "      <td>03 16641630</td>\n",
       "      <td></td>\n",
       "    </tr>\n",
       "  </tbody>\n",
       "</table>\n",
       "</div>"
      ],
      "text/plain": [
       "       patient_id given_name surname  street_number           address_1  \\\n",
       "4598       340891                              70.0      fawkner street   \n",
       "6663       211362                               3.0  sternberg crescent   \n",
       "10664      644475                              22.0  john xxiii college   \n",
       "18526      207001                              20.0   kirkwood crescent   \n",
       "\n",
       "            suburb  postcode state  date_of_birth   age phone_number name  \n",
       "4598       gorokan      3178   vic     19150429.0  24.0  07 49934506       \n",
       "6663   elsterneick      2502   nsw     19000422.0  32.0  03 96314344       \n",
       "10664    craigmore      5046   tas     19781105.0  31.0            0       \n",
       "18526       cooroy      3231           19960825.0  30.0  03 16641630       "
      ]
     },
     "execution_count": 38,
     "metadata": {},
     "output_type": "execute_result"
    }
   ],
   "source": [
    "df_patient[df_patient.name == \" \"]"
   ]
  },
  {
   "cell_type": "code",
   "execution_count": 39,
   "metadata": {},
   "outputs": [
    {
     "data": {
      "text/html": [
       "<div>\n",
       "<style scoped>\n",
       "    .dataframe tbody tr th:only-of-type {\n",
       "        vertical-align: middle;\n",
       "    }\n",
       "\n",
       "    .dataframe tbody tr th {\n",
       "        vertical-align: top;\n",
       "    }\n",
       "\n",
       "    .dataframe thead th {\n",
       "        text-align: right;\n",
       "    }\n",
       "</style>\n",
       "<table border=\"1\" class=\"dataframe\">\n",
       "  <thead>\n",
       "    <tr style=\"text-align: right;\">\n",
       "      <th></th>\n",
       "      <th>patient_id</th>\n",
       "      <th>given_name</th>\n",
       "      <th>surname</th>\n",
       "      <th>street_number</th>\n",
       "      <th>address_1</th>\n",
       "      <th>suburb</th>\n",
       "      <th>postcode</th>\n",
       "      <th>state</th>\n",
       "      <th>date_of_birth</th>\n",
       "      <th>age</th>\n",
       "      <th>phone_number</th>\n",
       "      <th>name</th>\n",
       "    </tr>\n",
       "  </thead>\n",
       "  <tbody>\n",
       "    <tr>\n",
       "      <th>0</th>\n",
       "      <td>221958</td>\n",
       "      <td>matisse</td>\n",
       "      <td>clarke</td>\n",
       "      <td>13.0</td>\n",
       "      <td>rene street</td>\n",
       "      <td>ellenbrook</td>\n",
       "      <td>2527</td>\n",
       "      <td>wa</td>\n",
       "      <td>19710708.0</td>\n",
       "      <td>32.0</td>\n",
       "      <td>08 86018809</td>\n",
       "      <td>matisse clarke</td>\n",
       "    </tr>\n",
       "    <tr>\n",
       "      <th>1</th>\n",
       "      <td>771155</td>\n",
       "      <td>joshua</td>\n",
       "      <td>elrick</td>\n",
       "      <td>23.0</td>\n",
       "      <td>andrea place</td>\n",
       "      <td>east preston</td>\n",
       "      <td>2074</td>\n",
       "      <td>nsw</td>\n",
       "      <td>19120921.0</td>\n",
       "      <td>34.0</td>\n",
       "      <td>02 97793152</td>\n",
       "      <td>joshua elrick</td>\n",
       "    </tr>\n",
       "    <tr>\n",
       "      <th>2</th>\n",
       "      <td>231932</td>\n",
       "      <td>alice</td>\n",
       "      <td>conboy</td>\n",
       "      <td>35.0</td>\n",
       "      <td>mountain circuit</td>\n",
       "      <td>prospect</td>\n",
       "      <td>2305</td>\n",
       "      <td>nsw</td>\n",
       "      <td>19810905.0</td>\n",
       "      <td>22.0</td>\n",
       "      <td>02 20403934</td>\n",
       "      <td>alice conboy</td>\n",
       "    </tr>\n",
       "    <tr>\n",
       "      <th>3</th>\n",
       "      <td>465838</td>\n",
       "      <td>sienna</td>\n",
       "      <td>craswell</td>\n",
       "      <td>39.0</td>\n",
       "      <td>cumberlegeicrescent</td>\n",
       "      <td>henty</td>\n",
       "      <td>3620</td>\n",
       "      <td>wa</td>\n",
       "      <td>19840809.0</td>\n",
       "      <td>30.0</td>\n",
       "      <td>02 62832318</td>\n",
       "      <td>sienna craswell</td>\n",
       "    </tr>\n",
       "    <tr>\n",
       "      <th>4</th>\n",
       "      <td>359178</td>\n",
       "      <td>joshua</td>\n",
       "      <td>bastiaans</td>\n",
       "      <td>144.0</td>\n",
       "      <td>lowrie street</td>\n",
       "      <td>campbell town</td>\n",
       "      <td>4051</td>\n",
       "      <td>nsw</td>\n",
       "      <td>19340430.0</td>\n",
       "      <td>31.0</td>\n",
       "      <td>03 69359594</td>\n",
       "      <td>joshua bastiaans</td>\n",
       "    </tr>\n",
       "  </tbody>\n",
       "</table>\n",
       "</div>"
      ],
      "text/plain": [
       "   patient_id given_name    surname  street_number            address_1  \\\n",
       "0      221958    matisse     clarke           13.0          rene street   \n",
       "1      771155     joshua     elrick           23.0         andrea place   \n",
       "2      231932      alice     conboy           35.0     mountain circuit   \n",
       "3      465838     sienna   craswell           39.0  cumberlegeicrescent   \n",
       "4      359178     joshua  bastiaans          144.0        lowrie street   \n",
       "\n",
       "          suburb  postcode state  date_of_birth   age phone_number  \\\n",
       "0     ellenbrook      2527    wa     19710708.0  32.0  08 86018809   \n",
       "1   east preston      2074   nsw     19120921.0  34.0  02 97793152   \n",
       "2       prospect      2305   nsw     19810905.0  22.0  02 20403934   \n",
       "3          henty      3620    wa     19840809.0  30.0  02 62832318   \n",
       "4  campbell town      4051   nsw     19340430.0  31.0  03 69359594   \n",
       "\n",
       "               name  \n",
       "0    matisse clarke  \n",
       "1     joshua elrick  \n",
       "2      alice conboy  \n",
       "3   sienna craswell  \n",
       "4  joshua bastiaans  "
      ]
     },
     "execution_count": 39,
     "metadata": {},
     "output_type": "execute_result"
    }
   ],
   "source": [
    "# Preview data\n",
    "df_patient.head()"
   ]
  },
  {
   "cell_type": "code",
   "execution_count": 40,
   "metadata": {},
   "outputs": [],
   "source": [
    "# Drop features given_name and surname\n",
    "df_patient = df_patient.drop(columns=['given_name', 'surname'])"
   ]
  },
  {
   "cell_type": "code",
   "execution_count": 41,
   "metadata": {},
   "outputs": [
    {
     "data": {
      "text/html": [
       "<div>\n",
       "<style scoped>\n",
       "    .dataframe tbody tr th:only-of-type {\n",
       "        vertical-align: middle;\n",
       "    }\n",
       "\n",
       "    .dataframe tbody tr th {\n",
       "        vertical-align: top;\n",
       "    }\n",
       "\n",
       "    .dataframe thead th {\n",
       "        text-align: right;\n",
       "    }\n",
       "</style>\n",
       "<table border=\"1\" class=\"dataframe\">\n",
       "  <thead>\n",
       "    <tr style=\"text-align: right;\">\n",
       "      <th></th>\n",
       "      <th>patient_id</th>\n",
       "      <th>name</th>\n",
       "      <th>street_number</th>\n",
       "      <th>address_1</th>\n",
       "      <th>suburb</th>\n",
       "      <th>state</th>\n",
       "      <th>postcode</th>\n",
       "      <th>date_of_birth</th>\n",
       "      <th>age</th>\n",
       "      <th>phone_number</th>\n",
       "    </tr>\n",
       "  </thead>\n",
       "  <tbody>\n",
       "    <tr>\n",
       "      <th>0</th>\n",
       "      <td>221958</td>\n",
       "      <td>matisse clarke</td>\n",
       "      <td>13.0</td>\n",
       "      <td>rene street</td>\n",
       "      <td>ellenbrook</td>\n",
       "      <td>wa</td>\n",
       "      <td>2527</td>\n",
       "      <td>19710708.0</td>\n",
       "      <td>32.0</td>\n",
       "      <td>08 86018809</td>\n",
       "    </tr>\n",
       "    <tr>\n",
       "      <th>1</th>\n",
       "      <td>771155</td>\n",
       "      <td>joshua elrick</td>\n",
       "      <td>23.0</td>\n",
       "      <td>andrea place</td>\n",
       "      <td>east preston</td>\n",
       "      <td>nsw</td>\n",
       "      <td>2074</td>\n",
       "      <td>19120921.0</td>\n",
       "      <td>34.0</td>\n",
       "      <td>02 97793152</td>\n",
       "    </tr>\n",
       "    <tr>\n",
       "      <th>2</th>\n",
       "      <td>231932</td>\n",
       "      <td>alice conboy</td>\n",
       "      <td>35.0</td>\n",
       "      <td>mountain circuit</td>\n",
       "      <td>prospect</td>\n",
       "      <td>nsw</td>\n",
       "      <td>2305</td>\n",
       "      <td>19810905.0</td>\n",
       "      <td>22.0</td>\n",
       "      <td>02 20403934</td>\n",
       "    </tr>\n",
       "    <tr>\n",
       "      <th>3</th>\n",
       "      <td>465838</td>\n",
       "      <td>sienna craswell</td>\n",
       "      <td>39.0</td>\n",
       "      <td>cumberlegeicrescent</td>\n",
       "      <td>henty</td>\n",
       "      <td>wa</td>\n",
       "      <td>3620</td>\n",
       "      <td>19840809.0</td>\n",
       "      <td>30.0</td>\n",
       "      <td>02 62832318</td>\n",
       "    </tr>\n",
       "    <tr>\n",
       "      <th>4</th>\n",
       "      <td>359178</td>\n",
       "      <td>joshua bastiaans</td>\n",
       "      <td>144.0</td>\n",
       "      <td>lowrie street</td>\n",
       "      <td>campbell town</td>\n",
       "      <td>nsw</td>\n",
       "      <td>4051</td>\n",
       "      <td>19340430.0</td>\n",
       "      <td>31.0</td>\n",
       "      <td>03 69359594</td>\n",
       "    </tr>\n",
       "  </tbody>\n",
       "</table>\n",
       "</div>"
      ],
      "text/plain": [
       "   patient_id              name  street_number            address_1  \\\n",
       "0      221958    matisse clarke           13.0          rene street   \n",
       "1      771155     joshua elrick           23.0         andrea place   \n",
       "2      231932      alice conboy           35.0     mountain circuit   \n",
       "3      465838   sienna craswell           39.0  cumberlegeicrescent   \n",
       "4      359178  joshua bastiaans          144.0        lowrie street   \n",
       "\n",
       "          suburb state  postcode  date_of_birth   age phone_number  \n",
       "0     ellenbrook    wa      2527     19710708.0  32.0  08 86018809  \n",
       "1   east preston   nsw      2074     19120921.0  34.0  02 97793152  \n",
       "2       prospect   nsw      2305     19810905.0  22.0  02 20403934  \n",
       "3          henty    wa      3620     19840809.0  30.0  02 62832318  \n",
       "4  campbell town   nsw      4051     19340430.0  31.0  03 69359594  "
      ]
     },
     "execution_count": 41,
     "metadata": {},
     "output_type": "execute_result"
    }
   ],
   "source": [
    "# Rearrange columns\n",
    "df_patient = df_patient[['patient_id', 'name', 'street_number', 'address_1', 'suburb', 'state', 'postcode', \\\n",
    "                        'date_of_birth', 'age', 'phone_number']]\n",
    "\n",
    "# Preview data\n",
    "df_patient.head()"
   ]
  },
  {
   "cell_type": "markdown",
   "metadata": {},
   "source": [
    "*Traitement de la variable **address_1** :*\n",
    "* corriger toutes les valeurs manquantes (**3.98%**) par la valeur \"\" ;\n",
    "    * **tâche réalisée plus haut.**"
   ]
  },
  {
   "cell_type": "code",
   "execution_count": 42,
   "metadata": {
    "scrolled": true
   },
   "outputs": [
    {
     "data": {
      "text/plain": [
       "                     790\n",
       "paul coe crescent     56\n",
       "burkitt street        55\n",
       "wilkins street        54\n",
       "totterdell street     49\n",
       "                    ... \n",
       "glenorcht street       1\n",
       "clubbe crwscent        1\n",
       "quinn street           1\n",
       "hodges street          1\n",
       "meerup street          1\n",
       "Name: address_1, Length: 4317, dtype: int64"
      ]
     },
     "execution_count": 42,
     "metadata": {},
     "output_type": "execute_result"
    }
   ],
   "source": [
    "# After correction\n",
    "df_patient.address_1.value_counts()"
   ]
  },
  {
   "cell_type": "code",
   "execution_count": 43,
   "metadata": {
    "scrolled": true
   },
   "outputs": [
    {
     "data": {
      "text/plain": [
       "0"
      ]
     },
     "execution_count": 43,
     "metadata": {},
     "output_type": "execute_result"
    }
   ],
   "source": [
    "# NaN value counts\n",
    "df_patient.address_1.isna().sum()"
   ]
  },
  {
   "cell_type": "markdown",
   "metadata": {},
   "source": [
    "*Traitement de la variable **phone_number** :*\n",
    "* corriger toutes les valeurs manquantes (**4.60%**) par la valeur '0' ;\n",
    "    * **tâche réalisée plus haut.**"
   ]
  },
  {
   "cell_type": "markdown",
   "metadata": {},
   "source": [
    "Afin de m'assurer de la qualité de cette variable, je consulte le site officiel des médias et communications d'Australie (https://www.acma.gov.au/choose-your-phone-number#types-of-phone-numbers). La longueur d'un numéro de téléphone est de 10 ; par exemple '0102030405'.\n",
    "\n",
    "Dans notre jeu de données, il est de 11 car il est de la forme '01 02030405'.\n",
    "\n",
    "*NB : Les 919 valeurs de longueur 1 sont celles corrigées par la valeur '0' plus haut.*"
   ]
  },
  {
   "cell_type": "code",
   "execution_count": 44,
   "metadata": {},
   "outputs": [
    {
     "data": {
      "text/plain": [
       "11    18890\n",
       "1       911\n",
       "Name: phone_number, dtype: int64"
      ]
     },
     "execution_count": 44,
     "metadata": {},
     "output_type": "execute_result"
    }
   ],
   "source": [
    "# Unique values of the length of each value\n",
    "df_patient.phone_number.apply(len).value_counts()"
   ]
  },
  {
   "cell_type": "code",
   "execution_count": 45,
   "metadata": {},
   "outputs": [
    {
     "data": {
      "text/plain": [
       "0              911\n",
       "07 85673315      4\n",
       "04 27462876      4\n",
       "07 50066933      4\n",
       "04 75216233      4\n",
       "              ... \n",
       "03 63698661      1\n",
       "07 29853834      1\n",
       "08 92762134      1\n",
       "02 64492750      1\n",
       "07 29757496      1\n",
       "Name: phone_number, Length: 17733, dtype: int64"
      ]
     },
     "execution_count": 45,
     "metadata": {},
     "output_type": "execute_result"
    }
   ],
   "source": [
    "# After correction\n",
    "df_patient.phone_number.value_counts()"
   ]
  },
  {
   "cell_type": "code",
   "execution_count": 46,
   "metadata": {},
   "outputs": [
    {
     "data": {
      "text/plain": [
       "0"
      ]
     },
     "execution_count": 46,
     "metadata": {},
     "output_type": "execute_result"
    }
   ],
   "source": [
    "# NaN value counts\n",
    "df_patient.phone_number.isna().sum()"
   ]
  },
  {
   "cell_type": "markdown",
   "metadata": {},
   "source": [
    "*La variable **phone_number** pourrait être une variable explicative et très utile pour la fonction de détection de doublons*."
   ]
  },
  {
   "cell_type": "code",
   "execution_count": 47,
   "metadata": {
    "scrolled": true
   },
   "outputs": [
    {
     "data": {
      "text/html": [
       "<div>\n",
       "<style scoped>\n",
       "    .dataframe tbody tr th:only-of-type {\n",
       "        vertical-align: middle;\n",
       "    }\n",
       "\n",
       "    .dataframe tbody tr th {\n",
       "        vertical-align: top;\n",
       "    }\n",
       "\n",
       "    .dataframe thead th {\n",
       "        text-align: right;\n",
       "    }\n",
       "</style>\n",
       "<table border=\"1\" class=\"dataframe\">\n",
       "  <thead>\n",
       "    <tr style=\"text-align: right;\">\n",
       "      <th></th>\n",
       "      <th>patient_id</th>\n",
       "      <th>name</th>\n",
       "      <th>street_number</th>\n",
       "      <th>address_1</th>\n",
       "      <th>suburb</th>\n",
       "      <th>state</th>\n",
       "      <th>postcode</th>\n",
       "      <th>date_of_birth</th>\n",
       "      <th>age</th>\n",
       "      <th>phone_number</th>\n",
       "    </tr>\n",
       "  </thead>\n",
       "  <tbody>\n",
       "    <tr>\n",
       "      <th>3364</th>\n",
       "      <td>622220</td>\n",
       "      <td>thomas webb</td>\n",
       "      <td>58.0</td>\n",
       "      <td>giles street</td>\n",
       "      <td>willtton</td>\n",
       "      <td>ai</td>\n",
       "      <td>2756</td>\n",
       "      <td>19670825.0</td>\n",
       "      <td>39.0</td>\n",
       "      <td>03 10035431</td>\n",
       "    </tr>\n",
       "    <tr>\n",
       "      <th>7161</th>\n",
       "      <td>671302</td>\n",
       "      <td>thomas webb</td>\n",
       "      <td>58.0</td>\n",
       "      <td>giles street</td>\n",
       "      <td>willetton</td>\n",
       "      <td>sa</td>\n",
       "      <td>2756</td>\n",
       "      <td>19670825.0</td>\n",
       "      <td>39.0</td>\n",
       "      <td>03 10035431</td>\n",
       "    </tr>\n",
       "    <tr>\n",
       "      <th>18998</th>\n",
       "      <td>397486</td>\n",
       "      <td>thomas webb</td>\n",
       "      <td>59.0</td>\n",
       "      <td>giles steeet</td>\n",
       "      <td>willetton</td>\n",
       "      <td>sa</td>\n",
       "      <td>2756</td>\n",
       "      <td>19670825.0</td>\n",
       "      <td>39.0</td>\n",
       "      <td>03 10035431</td>\n",
       "    </tr>\n",
       "    <tr>\n",
       "      <th>19684</th>\n",
       "      <td>499158</td>\n",
       "      <td>thomas webb</td>\n",
       "      <td>58.0</td>\n",
       "      <td>giles street</td>\n",
       "      <td>willtdeton</td>\n",
       "      <td>sa</td>\n",
       "      <td>2756</td>\n",
       "      <td>19679825.0</td>\n",
       "      <td>39.0</td>\n",
       "      <td>03 10035431</td>\n",
       "    </tr>\n",
       "  </tbody>\n",
       "</table>\n",
       "</div>"
      ],
      "text/plain": [
       "       patient_id         name  street_number     address_1      suburb state  \\\n",
       "3364       622220  thomas webb           58.0  giles street    willtton    ai   \n",
       "7161       671302  thomas webb           58.0  giles street   willetton    sa   \n",
       "18998      397486  thomas webb           59.0  giles steeet   willetton    sa   \n",
       "19684      499158  thomas webb           58.0  giles street  willtdeton    sa   \n",
       "\n",
       "       postcode  date_of_birth   age phone_number  \n",
       "3364       2756     19670825.0  39.0  03 10035431  \n",
       "7161       2756     19670825.0  39.0  03 10035431  \n",
       "18998      2756     19670825.0  39.0  03 10035431  \n",
       "19684      2756     19679825.0  39.0  03 10035431  "
      ]
     },
     "execution_count": 47,
     "metadata": {},
     "output_type": "execute_result"
    }
   ],
   "source": [
    "df_patient[df_patient.phone_number == '03 10035431']"
   ]
  },
  {
   "cell_type": "code",
   "execution_count": 48,
   "metadata": {},
   "outputs": [
    {
     "data": {
      "text/html": [
       "<div>\n",
       "<style scoped>\n",
       "    .dataframe tbody tr th:only-of-type {\n",
       "        vertical-align: middle;\n",
       "    }\n",
       "\n",
       "    .dataframe tbody tr th {\n",
       "        vertical-align: top;\n",
       "    }\n",
       "\n",
       "    .dataframe thead th {\n",
       "        text-align: right;\n",
       "    }\n",
       "</style>\n",
       "<table border=\"1\" class=\"dataframe\">\n",
       "  <thead>\n",
       "    <tr style=\"text-align: right;\">\n",
       "      <th></th>\n",
       "      <th>patient_id</th>\n",
       "      <th>name</th>\n",
       "      <th>street_number</th>\n",
       "      <th>address_1</th>\n",
       "      <th>suburb</th>\n",
       "      <th>state</th>\n",
       "      <th>postcode</th>\n",
       "      <th>date_of_birth</th>\n",
       "      <th>age</th>\n",
       "      <th>phone_number</th>\n",
       "    </tr>\n",
       "  </thead>\n",
       "  <tbody>\n",
       "    <tr>\n",
       "      <th>4395</th>\n",
       "      <td>695600</td>\n",
       "      <td>richard hermans</td>\n",
       "      <td>2.0</td>\n",
       "      <td>goodparla street</td>\n",
       "      <td>valentine</td>\n",
       "      <td>tas</td>\n",
       "      <td>3371</td>\n",
       "      <td>19462115.0</td>\n",
       "      <td>22.0</td>\n",
       "      <td>07 26649590</td>\n",
       "    </tr>\n",
       "    <tr>\n",
       "      <th>8877</th>\n",
       "      <td>894878</td>\n",
       "      <td>richard hermans</td>\n",
       "      <td>13.0</td>\n",
       "      <td>goodparla street</td>\n",
       "      <td>valentine</td>\n",
       "      <td>tas</td>\n",
       "      <td>3371</td>\n",
       "      <td>NaN</td>\n",
       "      <td>22.0</td>\n",
       "      <td>07 26649590</td>\n",
       "    </tr>\n",
       "    <tr>\n",
       "      <th>11293</th>\n",
       "      <td>464534</td>\n",
       "      <td>richard hermans</td>\n",
       "      <td>12.0</td>\n",
       "      <td>goodparla street</td>\n",
       "      <td>valentine</td>\n",
       "      <td>tas</td>\n",
       "      <td>3371</td>\n",
       "      <td>19461125.0</td>\n",
       "      <td>22.0</td>\n",
       "      <td>07 26649590</td>\n",
       "    </tr>\n",
       "    <tr>\n",
       "      <th>11840</th>\n",
       "      <td>757846</td>\n",
       "      <td>ritchad hermans</td>\n",
       "      <td>12.0</td>\n",
       "      <td>goodparla street</td>\n",
       "      <td>valentine</td>\n",
       "      <td></td>\n",
       "      <td>3371</td>\n",
       "      <td>19461125.0</td>\n",
       "      <td>22.0</td>\n",
       "      <td>07 26649590</td>\n",
       "    </tr>\n",
       "  </tbody>\n",
       "</table>\n",
       "</div>"
      ],
      "text/plain": [
       "       patient_id             name  street_number         address_1  \\\n",
       "4395       695600  richard hermans            2.0  goodparla street   \n",
       "8877       894878  richard hermans           13.0  goodparla street   \n",
       "11293      464534  richard hermans           12.0  goodparla street   \n",
       "11840      757846  ritchad hermans           12.0  goodparla street   \n",
       "\n",
       "          suburb state  postcode  date_of_birth   age phone_number  \n",
       "4395   valentine   tas      3371     19462115.0  22.0  07 26649590  \n",
       "8877   valentine   tas      3371            NaN  22.0  07 26649590  \n",
       "11293  valentine   tas      3371     19461125.0  22.0  07 26649590  \n",
       "11840  valentine            3371     19461125.0  22.0  07 26649590  "
      ]
     },
     "execution_count": 48,
     "metadata": {},
     "output_type": "execute_result"
    }
   ],
   "source": [
    "df_patient[df_patient.phone_number == '07 26649590']"
   ]
  },
  {
   "cell_type": "markdown",
   "metadata": {},
   "source": [
    "*Traitement de la variable **state** :*\n",
    "* corriger toutes les valeurs manquantes (**9.95%**) par la valeur \"\" ;\n",
    "    * **tâche réalisée plus haut.**\n",
    "* utiliser la variable **postcode** pour corriger toutes les erreurs de la variable **state** :\n",
    "    * j'utilise la règle d'affectation du code postal donnée par la poste australienne :\n",
    "        * 0200-0299 : act\n",
    "        * 0800-0999 : nt\n",
    "        * 1000-2599 : nsw\n",
    "        * 2600-2619 : act\n",
    "        * 2620-2899 : nsw\n",
    "        * 2900-2920 : act\n",
    "        * 2921-2999 : nsw\n",
    "        * 3000-3999 : vic\n",
    "        * 4000-4999 : qld\n",
    "        * 5000-5999 : sa\n",
    "        * 6000-6999 : wa\n",
    "        * 7000-7999 : tas\n",
    "        * 8000-8999 : vic\n",
    "        * 9000-9999 : qld"
   ]
  },
  {
   "cell_type": "code",
   "execution_count": 49,
   "metadata": {},
   "outputs": [],
   "source": [
    "# Correction of feature state\n",
    "    # 0200-0299\n",
    "df_patient.loc[(df_patient.postcode >= 200) & (df_patient.postcode < 300), 'state'] = 'act'\n",
    "    # 0800-0999\n",
    "df_patient.loc[(df_patient.postcode >= 800) & (df_patient.postcode < 1000), 'state'] = 'nt'\n",
    "    # 1000-2599\n",
    "df_patient.loc[(df_patient.postcode >= 1000) & (df_patient.postcode < 2600), 'state'] = 'nsw'\n",
    "    # 2600-2619\n",
    "df_patient.loc[(df_patient.postcode >= 2600) & (df_patient.postcode < 2620), 'state'] = 'act'\n",
    "    # 2620-2899\n",
    "df_patient.loc[(df_patient.postcode >= 2620) & (df_patient.postcode < 2900), 'state'] = 'nsw'\n",
    "    # 2900-2920\n",
    "df_patient.loc[(df_patient.postcode >= 2900) & (df_patient.postcode < 2921), 'state'] = 'act'\n",
    "    # 2921-2999\n",
    "df_patient.loc[(df_patient.postcode >= 2921) & (df_patient.postcode < 3000), 'state'] = 'nsw'\n",
    "    # 3000-3999\n",
    "df_patient.loc[(df_patient.postcode >= 3000) & (df_patient.postcode < 4000), 'state'] = 'vic'\n",
    "    # 4000-4999\n",
    "df_patient.loc[(df_patient.postcode >= 4000) & (df_patient.postcode < 5000), 'state'] = 'qld'\n",
    "    # 5000-5999\n",
    "df_patient.loc[(df_patient.postcode >= 5000) & (df_patient.postcode < 6000), 'state'] = 'sa'\n",
    "    # 6000-6999\n",
    "df_patient.loc[(df_patient.postcode >= 6000) & (df_patient.postcode < 7000), 'state'] = 'wa'\n",
    "    # 7000-7999\n",
    "df_patient.loc[(df_patient.postcode >= 7000) & (df_patient.postcode < 8000), 'state'] = 'tas'\n",
    "    # 8000-8999\n",
    "df_patient.loc[(df_patient.postcode >= 8000) & (df_patient.postcode < 9000), 'state'] = 'vic'\n",
    "    # 9000-9999\n",
    "df_patient.loc[(df_patient.postcode >= 9000) & (df_patient.postcode < 10000), 'state'] = 'qld'"
   ]
  },
  {
   "cell_type": "code",
   "execution_count": 50,
   "metadata": {},
   "outputs": [
    {
     "data": {
      "text/plain": [
       "nsw    6652\n",
       "vic    4886\n",
       "qld    3786\n",
       "wa     1841\n",
       "sa     1560\n",
       "tas     527\n",
       "act     372\n",
       "nt      177\n",
       "Name: state, dtype: int64"
      ]
     },
     "execution_count": 50,
     "metadata": {},
     "output_type": "execute_result"
    }
   ],
   "source": [
    "# After correction\n",
    "df_patient.state.value_counts()"
   ]
  },
  {
   "cell_type": "code",
   "execution_count": 51,
   "metadata": {},
   "outputs": [
    {
     "data": {
      "text/plain": [
       "0"
      ]
     },
     "execution_count": 51,
     "metadata": {},
     "output_type": "execute_result"
    }
   ],
   "source": [
    "df_patient.state.isna().sum()"
   ]
  },
  {
   "cell_type": "markdown",
   "metadata": {},
   "source": [
    "Après le traitement des variables qualitatives, je fais l'analyse suivante :\n",
    "* Il y a 17067 valeurs uniques pour la variable **name** sur 19081 valeurs dans notre jeu de données ; cette variable servira clairement à la détection de doublons.\n",
    "* De 102 valeurs, nous nous retrouvons à 8 valeurs uniques pour la variable **state**.\n",
    "* De même que la variable **name**, la variable **phone_number** compte un grand nombre  de valeurs uniques que le nombre de valeurs total dans le jeu de données ; cette variable est donc également nécessaire pour la détection de doublons.\n",
    "\n",
    "Un aperçu des lignes dupliquées dans les variables **name** et **phone_number** révèle qu'il y a 770 lignes concernées."
   ]
  },
  {
   "cell_type": "code",
   "execution_count": 52,
   "metadata": {},
   "outputs": [
    {
     "data": {
      "text/html": [
       "<div>\n",
       "<style scoped>\n",
       "    .dataframe tbody tr th:only-of-type {\n",
       "        vertical-align: middle;\n",
       "    }\n",
       "\n",
       "    .dataframe tbody tr th {\n",
       "        vertical-align: top;\n",
       "    }\n",
       "\n",
       "    .dataframe thead th {\n",
       "        text-align: right;\n",
       "    }\n",
       "</style>\n",
       "<table border=\"1\" class=\"dataframe\">\n",
       "  <thead>\n",
       "    <tr style=\"text-align: right;\">\n",
       "      <th></th>\n",
       "      <th>name</th>\n",
       "      <th>address_1</th>\n",
       "      <th>suburb</th>\n",
       "      <th>state</th>\n",
       "      <th>phone_number</th>\n",
       "    </tr>\n",
       "  </thead>\n",
       "  <tbody>\n",
       "    <tr>\n",
       "      <th>count</th>\n",
       "      <td>19801</td>\n",
       "      <td>19801</td>\n",
       "      <td>19801</td>\n",
       "      <td>19801</td>\n",
       "      <td>19801</td>\n",
       "    </tr>\n",
       "    <tr>\n",
       "      <th>unique</th>\n",
       "      <td>17067</td>\n",
       "      <td>4317</td>\n",
       "      <td>2900</td>\n",
       "      <td>8</td>\n",
       "      <td>17733</td>\n",
       "    </tr>\n",
       "    <tr>\n",
       "      <th>top</th>\n",
       "      <td>white</td>\n",
       "      <td></td>\n",
       "      <td>toowoomba</td>\n",
       "      <td>nsw</td>\n",
       "      <td>0</td>\n",
       "    </tr>\n",
       "    <tr>\n",
       "      <th>freq</th>\n",
       "      <td>13</td>\n",
       "      <td>790</td>\n",
       "      <td>378</td>\n",
       "      <td>6652</td>\n",
       "      <td>911</td>\n",
       "    </tr>\n",
       "  </tbody>\n",
       "</table>\n",
       "</div>"
      ],
      "text/plain": [
       "          name address_1     suburb  state phone_number\n",
       "count    19801     19801      19801  19801        19801\n",
       "unique   17067      4317       2900      8        17733\n",
       "top      white            toowoomba    nsw            0\n",
       "freq        13       790        378   6652          911"
      ]
     },
     "execution_count": 52,
     "metadata": {},
     "output_type": "execute_result"
    }
   ],
   "source": [
    "# After correction of all qualitative features\n",
    "df_patient.describe(include=['O'])"
   ]
  },
  {
   "cell_type": "code",
   "execution_count": 53,
   "metadata": {},
   "outputs": [
    {
     "data": {
      "text/html": [
       "<div>\n",
       "<style scoped>\n",
       "    .dataframe tbody tr th:only-of-type {\n",
       "        vertical-align: middle;\n",
       "    }\n",
       "\n",
       "    .dataframe tbody tr th {\n",
       "        vertical-align: top;\n",
       "    }\n",
       "\n",
       "    .dataframe thead th {\n",
       "        text-align: right;\n",
       "    }\n",
       "</style>\n",
       "<table border=\"1\" class=\"dataframe\">\n",
       "  <thead>\n",
       "    <tr style=\"text-align: right;\">\n",
       "      <th></th>\n",
       "      <th>patient_id</th>\n",
       "      <th>name</th>\n",
       "      <th>street_number</th>\n",
       "      <th>address_1</th>\n",
       "      <th>suburb</th>\n",
       "      <th>state</th>\n",
       "      <th>postcode</th>\n",
       "      <th>date_of_birth</th>\n",
       "      <th>age</th>\n",
       "      <th>phone_number</th>\n",
       "    </tr>\n",
       "  </thead>\n",
       "  <tbody>\n",
       "    <tr>\n",
       "      <th>488</th>\n",
       "      <td>749150</td>\n",
       "      <td>benjamin weidenhoffer</td>\n",
       "      <td>436.0</td>\n",
       "      <td>kadina crescent</td>\n",
       "      <td>joyner</td>\n",
       "      <td>tas</td>\n",
       "      <td>7310</td>\n",
       "      <td>19541224.0</td>\n",
       "      <td>39.0</td>\n",
       "      <td>03 02607538</td>\n",
       "    </tr>\n",
       "    <tr>\n",
       "      <th>568</th>\n",
       "      <td>303861</td>\n",
       "      <td>dylan</td>\n",
       "      <td>5.0</td>\n",
       "      <td>blake place</td>\n",
       "      <td>campsie</td>\n",
       "      <td>nsw</td>\n",
       "      <td>2306</td>\n",
       "      <td>19010730.0</td>\n",
       "      <td>NaN</td>\n",
       "      <td>0</td>\n",
       "    </tr>\n",
       "    <tr>\n",
       "      <th>575</th>\n",
       "      <td>675581</td>\n",
       "      <td>joshua reid</td>\n",
       "      <td>18.0</td>\n",
       "      <td>clare dennis avenue</td>\n",
       "      <td>edgecliff</td>\n",
       "      <td>vic</td>\n",
       "      <td>3585</td>\n",
       "      <td>19760803.0</td>\n",
       "      <td>NaN</td>\n",
       "      <td>0</td>\n",
       "    </tr>\n",
       "    <tr>\n",
       "      <th>605</th>\n",
       "      <td>291232</td>\n",
       "      <td>alicia clarke</td>\n",
       "      <td>39.0</td>\n",
       "      <td>badenoch crescent</td>\n",
       "      <td>gidgegannup</td>\n",
       "      <td>qld</td>\n",
       "      <td>4066</td>\n",
       "      <td>19700619.0</td>\n",
       "      <td>28.0</td>\n",
       "      <td>07 16836996</td>\n",
       "    </tr>\n",
       "    <tr>\n",
       "      <th>1085</th>\n",
       "      <td>915131</td>\n",
       "      <td>georgia hope</td>\n",
       "      <td>176.0</td>\n",
       "      <td>constitution avenue</td>\n",
       "      <td>brunswick heads</td>\n",
       "      <td>vic</td>\n",
       "      <td>3025</td>\n",
       "      <td>19381108.0</td>\n",
       "      <td>29.0</td>\n",
       "      <td>04 70023929</td>\n",
       "    </tr>\n",
       "    <tr>\n",
       "      <th>...</th>\n",
       "      <td>...</td>\n",
       "      <td>...</td>\n",
       "      <td>...</td>\n",
       "      <td>...</td>\n",
       "      <td>...</td>\n",
       "      <td>...</td>\n",
       "      <td>...</td>\n",
       "      <td>...</td>\n",
       "      <td>...</td>\n",
       "      <td>...</td>\n",
       "    </tr>\n",
       "    <tr>\n",
       "      <th>19896</th>\n",
       "      <td>535564</td>\n",
       "      <td>marcus reinbach</td>\n",
       "      <td>2.0</td>\n",
       "      <td>wangara street</td>\n",
       "      <td>hazelbrook</td>\n",
       "      <td>vic</td>\n",
       "      <td>3931</td>\n",
       "      <td>19670124.0</td>\n",
       "      <td>30.0</td>\n",
       "      <td>08 38366451</td>\n",
       "    </tr>\n",
       "    <tr>\n",
       "      <th>19900</th>\n",
       "      <td>916708</td>\n",
       "      <td>edward baillie</td>\n",
       "      <td>8.0</td>\n",
       "      <td>majura avdnue</td>\n",
       "      <td>bayview</td>\n",
       "      <td>qld</td>\n",
       "      <td>4118</td>\n",
       "      <td>19671201.0</td>\n",
       "      <td>NaN</td>\n",
       "      <td>04 21767460</td>\n",
       "    </tr>\n",
       "    <tr>\n",
       "      <th>19924</th>\n",
       "      <td>916386</td>\n",
       "      <td>corie webb</td>\n",
       "      <td>91.0</td>\n",
       "      <td>collings street</td>\n",
       "      <td>berwick</td>\n",
       "      <td>qld</td>\n",
       "      <td>4506</td>\n",
       "      <td>19880101.0</td>\n",
       "      <td>22.0</td>\n",
       "      <td>07 83704242</td>\n",
       "    </tr>\n",
       "    <tr>\n",
       "      <th>19949</th>\n",
       "      <td>434796</td>\n",
       "      <td>xepheren beatton</td>\n",
       "      <td>4.0</td>\n",
       "      <td>the canberea tospital</td>\n",
       "      <td>albury</td>\n",
       "      <td>nsw</td>\n",
       "      <td>2089</td>\n",
       "      <td>19910237.0</td>\n",
       "      <td>32.0</td>\n",
       "      <td>07 23534602</td>\n",
       "    </tr>\n",
       "    <tr>\n",
       "      <th>19973</th>\n",
       "      <td>301657</td>\n",
       "      <td>danielle newport</td>\n",
       "      <td>611.0</td>\n",
       "      <td>ragless circuit</td>\n",
       "      <td>graceville</td>\n",
       "      <td>vic</td>\n",
       "      <td>3199</td>\n",
       "      <td>19751023.0</td>\n",
       "      <td>38.0</td>\n",
       "      <td>02 47073119</td>\n",
       "    </tr>\n",
       "  </tbody>\n",
       "</table>\n",
       "<p>770 rows × 10 columns</p>\n",
       "</div>"
      ],
      "text/plain": [
       "       patient_id                   name  street_number  \\\n",
       "488        749150  benjamin weidenhoffer          436.0   \n",
       "568        303861                 dylan             5.0   \n",
       "575        675581            joshua reid           18.0   \n",
       "605        291232          alicia clarke           39.0   \n",
       "1085       915131           georgia hope          176.0   \n",
       "...           ...                    ...            ...   \n",
       "19896      535564        marcus reinbach            2.0   \n",
       "19900      916708         edward baillie            8.0   \n",
       "19924      916386             corie webb           91.0   \n",
       "19949      434796       xepheren beatton            4.0   \n",
       "19973      301657       danielle newport          611.0   \n",
       "\n",
       "                   address_1           suburb state  postcode  date_of_birth  \\\n",
       "488          kadina crescent           joyner   tas      7310     19541224.0   \n",
       "568              blake place          campsie   nsw      2306     19010730.0   \n",
       "575      clare dennis avenue        edgecliff   vic      3585     19760803.0   \n",
       "605        badenoch crescent      gidgegannup   qld      4066     19700619.0   \n",
       "1085     constitution avenue  brunswick heads   vic      3025     19381108.0   \n",
       "...                      ...              ...   ...       ...            ...   \n",
       "19896         wangara street       hazelbrook   vic      3931     19670124.0   \n",
       "19900          majura avdnue          bayview   qld      4118     19671201.0   \n",
       "19924        collings street          berwick   qld      4506     19880101.0   \n",
       "19949  the canberea tospital           albury   nsw      2089     19910237.0   \n",
       "19973        ragless circuit       graceville   vic      3199     19751023.0   \n",
       "\n",
       "        age phone_number  \n",
       "488    39.0  03 02607538  \n",
       "568     NaN            0  \n",
       "575     NaN            0  \n",
       "605    28.0  07 16836996  \n",
       "1085   29.0  04 70023929  \n",
       "...     ...          ...  \n",
       "19896  30.0  08 38366451  \n",
       "19900   NaN  04 21767460  \n",
       "19924  22.0  07 83704242  \n",
       "19949  32.0  07 23534602  \n",
       "19973  38.0  02 47073119  \n",
       "\n",
       "[770 rows x 10 columns]"
      ]
     },
     "execution_count": 53,
     "metadata": {},
     "output_type": "execute_result"
    }
   ],
   "source": [
    "# Preview of duplicated rows in features name and phone_number\n",
    "df_patient[(df_patient.name.duplicated()) & (df_patient.phone_number.duplicated())]"
   ]
  },
  {
   "cell_type": "markdown",
   "metadata": {},
   "source": [
    "#### Analyse des variables numériques"
   ]
  },
  {
   "cell_type": "code",
   "execution_count": 54,
   "metadata": {
    "scrolled": false
   },
   "outputs": [
    {
     "data": {
      "text/html": [
       "<div>\n",
       "<style scoped>\n",
       "    .dataframe tbody tr th:only-of-type {\n",
       "        vertical-align: middle;\n",
       "    }\n",
       "\n",
       "    .dataframe tbody tr th {\n",
       "        vertical-align: top;\n",
       "    }\n",
       "\n",
       "    .dataframe thead th {\n",
       "        text-align: right;\n",
       "    }\n",
       "</style>\n",
       "<table border=\"1\" class=\"dataframe\">\n",
       "  <thead>\n",
       "    <tr style=\"text-align: right;\">\n",
       "      <th></th>\n",
       "      <th>patient_id</th>\n",
       "      <th>street_number</th>\n",
       "      <th>postcode</th>\n",
       "      <th>date_of_birth</th>\n",
       "      <th>age</th>\n",
       "    </tr>\n",
       "  </thead>\n",
       "  <tbody>\n",
       "    <tr>\n",
       "      <th>count</th>\n",
       "      <td>19801.000000</td>\n",
       "      <td>19422.000000</td>\n",
       "      <td>19801.000000</td>\n",
       "      <td>1.781900e+04</td>\n",
       "      <td>15842.000000</td>\n",
       "    </tr>\n",
       "    <tr>\n",
       "      <th>mean</th>\n",
       "      <td>553955.766830</td>\n",
       "      <td>98.640562</td>\n",
       "      <td>3667.782991</td>\n",
       "      <td>1.949705e+07</td>\n",
       "      <td>27.532067</td>\n",
       "    </tr>\n",
       "    <tr>\n",
       "      <th>std</th>\n",
       "      <td>260246.238454</td>\n",
       "      <td>2493.522598</td>\n",
       "      <td>1402.307150</td>\n",
       "      <td>2.885459e+05</td>\n",
       "      <td>7.807732</td>\n",
       "    </tr>\n",
       "    <tr>\n",
       "      <th>min</th>\n",
       "      <td>100005.000000</td>\n",
       "      <td>0.000000</td>\n",
       "      <td>800.000000</td>\n",
       "      <td>1.900010e+07</td>\n",
       "      <td>0.000000</td>\n",
       "    </tr>\n",
       "    <tr>\n",
       "      <th>25%</th>\n",
       "      <td>329991.000000</td>\n",
       "      <td>10.000000</td>\n",
       "      <td>2485.000000</td>\n",
       "      <td>1.924122e+07</td>\n",
       "      <td>24.000000</td>\n",
       "    </tr>\n",
       "    <tr>\n",
       "      <th>50%</th>\n",
       "      <td>556356.000000</td>\n",
       "      <td>24.000000</td>\n",
       "      <td>3194.000000</td>\n",
       "      <td>1.950040e+07</td>\n",
       "      <td>29.000000</td>\n",
       "    </tr>\n",
       "    <tr>\n",
       "      <th>75%</th>\n",
       "      <td>779418.000000</td>\n",
       "      <td>60.000000</td>\n",
       "      <td>4601.000000</td>\n",
       "      <td>1.975052e+07</td>\n",
       "      <td>33.000000</td>\n",
       "    </tr>\n",
       "    <tr>\n",
       "      <th>max</th>\n",
       "      <td>999993.000000</td>\n",
       "      <td>342951.000000</td>\n",
       "      <td>7470.000000</td>\n",
       "      <td>1.999123e+07</td>\n",
       "      <td>92.000000</td>\n",
       "    </tr>\n",
       "  </tbody>\n",
       "</table>\n",
       "</div>"
      ],
      "text/plain": [
       "          patient_id  street_number      postcode  date_of_birth           age\n",
       "count   19801.000000   19422.000000  19801.000000   1.781900e+04  15842.000000\n",
       "mean   553955.766830      98.640562   3667.782991   1.949705e+07     27.532067\n",
       "std    260246.238454    2493.522598   1402.307150   2.885459e+05      7.807732\n",
       "min    100005.000000       0.000000    800.000000   1.900010e+07      0.000000\n",
       "25%    329991.000000      10.000000   2485.000000   1.924122e+07     24.000000\n",
       "50%    556356.000000      24.000000   3194.000000   1.950040e+07     29.000000\n",
       "75%    779418.000000      60.000000   4601.000000   1.975052e+07     33.000000\n",
       "max    999993.000000  342951.000000   7470.000000   1.999123e+07     92.000000"
      ]
     },
     "execution_count": 54,
     "metadata": {},
     "output_type": "execute_result"
    }
   ],
   "source": [
    "df_patient.describe()"
   ]
  },
  {
   "cell_type": "markdown",
   "metadata": {},
   "source": [
    "La matrice de corrélation révèle que les variables numériques sont decorrélées (faible corrélation proche de 0) entre elles."
   ]
  },
  {
   "cell_type": "code",
   "execution_count": 55,
   "metadata": {
    "scrolled": true
   },
   "outputs": [
    {
     "data": {
      "text/plain": [
       "<matplotlib.axes._subplots.AxesSubplot at 0x7fdacb6258e0>"
      ]
     },
     "execution_count": 55,
     "metadata": {},
     "output_type": "execute_result"
    },
    {
     "data": {
      "image/png": "[encoded data removed]",
      "text/plain": [
       "<Figure size 432x288 with 2 Axes>"
      ]
     },
     "metadata": {},
     "output_type": "display_data"
    }
   ],
   "source": [
    "# Correlation between features\n",
    "sns.heatmap(data=df_patient.corr().round(2), annot=True)"
   ]
  },
  {
   "cell_type": "markdown",
   "metadata": {},
   "source": [
    "En affichant les codes postaux en fonction des numéros de rue, je m'aperçois clairement de 2 valeurs aberrantes apparentes qui sont supérieurs à 25000 dans la variable **street_number**. Et en utilisant Google Maps pour la localisation, ces adresses n'existent pas.\n",
    "\n",
    "Je les remplace donc par une valeur NaN."
   ]
  },
  {
   "cell_type": "code",
   "execution_count": 56,
   "metadata": {
    "scrolled": false
   },
   "outputs": [
    {
     "data": {
      "text/plain": [
       "<seaborn.axisgrid.FacetGrid at 0x7fdacadd80d0>"
      ]
     },
     "execution_count": 56,
     "metadata": {},
     "output_type": "execute_result"
    },
    {
     "data": {
      "image/png": "[encoded data removed]",
      "text/plain": [
       "<Figure size 1211.1x576 with 1 Axes>"
      ]
     },
     "metadata": {},
     "output_type": "display_data"
    }
   ],
   "source": [
    "# Display post_code as a function of street_number and draw by state \n",
    "grid = sns.FacetGrid(data=df_patient, hue='state', height=8, aspect=2)\n",
    "grid.map_dataframe(sns.scatterplot, x='street_number', y='postcode')\n",
    "grid.set_xlabels(label='Street number')\n",
    "grid.set_ylabels(label='Postcode')\n",
    "grid.add_legend()"
   ]
  },
  {
   "cell_type": "code",
   "execution_count": 57,
   "metadata": {
    "scrolled": true
   },
   "outputs": [
    {
     "data": {
      "text/html": [
       "<div>\n",
       "<style scoped>\n",
       "    .dataframe tbody tr th:only-of-type {\n",
       "        vertical-align: middle;\n",
       "    }\n",
       "\n",
       "    .dataframe tbody tr th {\n",
       "        vertical-align: top;\n",
       "    }\n",
       "\n",
       "    .dataframe thead th {\n",
       "        text-align: right;\n",
       "    }\n",
       "</style>\n",
       "<table border=\"1\" class=\"dataframe\">\n",
       "  <thead>\n",
       "    <tr style=\"text-align: right;\">\n",
       "      <th></th>\n",
       "      <th>patient_id</th>\n",
       "      <th>name</th>\n",
       "      <th>street_number</th>\n",
       "      <th>address_1</th>\n",
       "      <th>suburb</th>\n",
       "      <th>state</th>\n",
       "      <th>postcode</th>\n",
       "      <th>date_of_birth</th>\n",
       "      <th>age</th>\n",
       "      <th>phone_number</th>\n",
       "    </tr>\n",
       "  </thead>\n",
       "  <tbody>\n",
       "    <tr>\n",
       "      <th>7055</th>\n",
       "      <td>869217</td>\n",
       "      <td>nicholas fitzpatrick</td>\n",
       "      <td>342951.0</td>\n",
       "      <td>taylor place</td>\n",
       "      <td>normanhurst</td>\n",
       "      <td>qld</td>\n",
       "      <td>4560</td>\n",
       "      <td>19680530.0</td>\n",
       "      <td>13.0</td>\n",
       "      <td>08 37654995</td>\n",
       "    </tr>\n",
       "    <tr>\n",
       "      <th>12440</th>\n",
       "      <td>446997</td>\n",
       "      <td>jessica matthews</td>\n",
       "      <td>39430.0</td>\n",
       "      <td>airey crescent</td>\n",
       "      <td>plumpton</td>\n",
       "      <td>vic</td>\n",
       "      <td>3173</td>\n",
       "      <td>19331014.0</td>\n",
       "      <td>29.0</td>\n",
       "      <td>02 15333991</td>\n",
       "    </tr>\n",
       "  </tbody>\n",
       "</table>\n",
       "</div>"
      ],
      "text/plain": [
       "       patient_id                  name  street_number       address_1  \\\n",
       "7055       869217  nicholas fitzpatrick       342951.0    taylor place   \n",
       "12440      446997      jessica matthews        39430.0  airey crescent   \n",
       "\n",
       "            suburb state  postcode  date_of_birth   age phone_number  \n",
       "7055   normanhurst   qld      4560     19680530.0  13.0  08 37654995  \n",
       "12440     plumpton   vic      3173     19331014.0  29.0  02 15333991  "
      ]
     },
     "execution_count": 57,
     "metadata": {},
     "output_type": "execute_result"
    }
   ],
   "source": [
    "# View outliers in street_number\n",
    "df_patient[df_patient.street_number > 25000]"
   ]
  },
  {
   "cell_type": "code",
   "execution_count": 58,
   "metadata": {
    "scrolled": true
   },
   "outputs": [],
   "source": [
    "# Replace outliers in street_number by NaN value\n",
    "df_patient.loc[df_patient.street_number > 25000, 'street_number'] = np.NaN"
   ]
  },
  {
   "cell_type": "markdown",
   "metadata": {},
   "source": [
    "La variable **age** compte plusieurs valeurs manquantes (plus de **15%** des données) et plusieurs valeurs aberrantes avec la boîte à moustaches.\n",
    "\n",
    "La variable **age** est asymétrique avec une médiane (**29**) assez proche de la moyenne (**27.53**)."
   ]
  },
  {
   "cell_type": "code",
   "execution_count": 59,
   "metadata": {
    "scrolled": true
   },
   "outputs": [
    {
     "data": {
      "text/plain": [
       "3959"
      ]
     },
     "execution_count": 59,
     "metadata": {},
     "output_type": "execute_result"
    }
   ],
   "source": [
    "# NaN values count\n",
    "df_patient.age.isna().sum()"
   ]
  },
  {
   "cell_type": "code",
   "execution_count": 60,
   "metadata": {},
   "outputs": [
    {
     "data": {
      "text/plain": [
       "<matplotlib.axes._subplots.AxesSubplot at 0x7fdacbf6fa30>"
      ]
     },
     "execution_count": 60,
     "metadata": {},
     "output_type": "execute_result"
    },
    {
     "data": {
      "image/png": "[encoded data removed]",
      "text/plain": [
       "<Figure size 720x1080 with 1 Axes>"
      ]
     },
     "metadata": {},
     "output_type": "display_data"
    }
   ],
   "source": [
    "# Boxplot of feature age\n",
    "fig, ax = plt.subplots(figsize=(10, 15))\n",
    "sns.boxplot(y=df_patient.age, ax=ax)"
   ]
  },
  {
   "cell_type": "code",
   "execution_count": 61,
   "metadata": {},
   "outputs": [
    {
     "data": {
      "text/plain": [
       "count    15842.000000\n",
       "mean        27.532067\n",
       "std          7.807732\n",
       "min          0.000000\n",
       "25%         24.000000\n",
       "50%         29.000000\n",
       "75%         33.000000\n",
       "max         92.000000\n",
       "Name: age, dtype: float64"
      ]
     },
     "execution_count": 61,
     "metadata": {},
     "output_type": "execute_result"
    }
   ],
   "source": [
    "# Description of feature age\n",
    "df_patient.age.describe()"
   ]
  },
  {
   "cell_type": "code",
   "execution_count": 62,
   "metadata": {
    "scrolled": false
   },
   "outputs": [
    {
     "data": {
      "text/plain": [
       "<matplotlib.axes._subplots.AxesSubplot at 0x7fdacc0763d0>"
      ]
     },
     "execution_count": 62,
     "metadata": {},
     "output_type": "execute_result"
    },
    {
     "data": {
      "image/png": "[encoded data removed]",
      "text/plain": [
       "<Figure size 2160x1440 with 1 Axes>"
      ]
     },
     "metadata": {},
     "output_type": "display_data"
    }
   ],
   "source": [
    "# Distribution of feature age\n",
    "fig, ax = plt.subplots(figsize=(30, 20))\n",
    "sns.countplot(x=df_patient.age, ax=ax)"
   ]
  },
  {
   "cell_type": "markdown",
   "metadata": {},
   "source": [
    "Pour afficher les outliers de la variable **age**,je vais créer une nouvelle variable de type temporelle et choisir le mode de correction de la variable **age**."
   ]
  },
  {
   "cell_type": "code",
   "execution_count": 63,
   "metadata": {},
   "outputs": [],
   "source": [
    "# Fill NaN by the value 0\n",
    "df_patient.date_of_birth = df_patient.date_of_birth.fillna(0)"
   ]
  },
  {
   "cell_type": "code",
   "execution_count": 64,
   "metadata": {},
   "outputs": [
    {
     "data": {
      "text/plain": [
       "0.0           1982\n",
       "19900526.0       6\n",
       "19630130.0       6\n",
       "19220519.0       6\n",
       "19210620.0       6\n",
       "              ... \n",
       "19410618.0       1\n",
       "19920811.0       1\n",
       "19850217.0       1\n",
       "19640925.0       1\n",
       "19551204.0       1\n",
       "Name: date_of_birth, Length: 13542, dtype: int64"
      ]
     },
     "execution_count": 64,
     "metadata": {},
     "output_type": "execute_result"
    }
   ],
   "source": [
    "# After filling\n",
    "df_patient.date_of_birth.value_counts()"
   ]
  },
  {
   "cell_type": "code",
   "execution_count": 65,
   "metadata": {},
   "outputs": [],
   "source": [
    "# Create a new feature of date type\n",
    "df_patient['date_of_birth_date'] = df_patient.date_of_birth.apply(datetime.date.fromtimestamp)"
   ]
  },
  {
   "cell_type": "markdown",
   "metadata": {},
   "source": [
    "Nous nous retrouvons avec seulement 14 valeurs uniques dans la variable **date_of_birth_date**."
   ]
  },
  {
   "cell_type": "code",
   "execution_count": 66,
   "metadata": {
    "scrolled": true
   },
   "outputs": [
    {
     "data": {
      "text/plain": [
       "count          19801\n",
       "unique            14\n",
       "top       1970-01-01\n",
       "freq            1982\n",
       "Name: date_of_birth_date, dtype: object"
      ]
     },
     "execution_count": 66,
     "metadata": {},
     "output_type": "execute_result"
    }
   ],
   "source": [
    "# Description of new feature\n",
    "df_patient.date_of_birth_date.describe()"
   ]
  },
  {
   "cell_type": "code",
   "execution_count": 67,
   "metadata": {
    "scrolled": true
   },
   "outputs": [
    {
     "data": {
      "text/plain": [
       "1970-01-01    1982\n",
       "1970-08-17    1681\n",
       "1970-08-13    1651\n",
       "1970-08-11    1612\n",
       "1970-08-16    1557\n",
       "1970-08-14    1548\n",
       "1970-08-19    1545\n",
       "1970-08-09    1523\n",
       "1970-08-10    1483\n",
       "1970-08-18    1465\n",
       "1970-08-15    1431\n",
       "1970-08-12    1406\n",
       "1970-08-20     740\n",
       "1970-08-08     177\n",
       "Name: date_of_birth_date, dtype: int64"
      ]
     },
     "execution_count": 67,
     "metadata": {},
     "output_type": "execute_result"
    }
   ],
   "source": [
    "# Print values count of new feature\n",
    "df_patient.date_of_birth_date.value_counts()"
   ]
  },
  {
   "cell_type": "markdown",
   "metadata": {},
   "source": [
    "En fonction de chaque date, plusieurs valeurs aberrantes semblent se dégager selon la figure ci-dessous."
   ]
  },
  {
   "cell_type": "code",
   "execution_count": 68,
   "metadata": {
    "scrolled": false
   },
   "outputs": [
    {
     "data": {
      "text/plain": [
       "<seaborn.axisgrid.FacetGrid at 0x7fdacc0709d0>"
      ]
     },
     "execution_count": 68,
     "metadata": {},
     "output_type": "execute_result"
    },
    {
     "data": {
      "image/png": "[encoded data removed]",
      "text/plain": [
       "<Figure size 1152x576 with 1 Axes>"
      ]
     },
     "metadata": {},
     "output_type": "display_data"
    }
   ],
   "source": [
    "# Plot age by date_of_birth_date\n",
    "sns.catplot(data=df_patient, x='date_of_birth_date', y='age', height=8, aspect=2)"
   ]
  },
  {
   "cell_type": "code",
   "execution_count": 69,
   "metadata": {
    "scrolled": false
   },
   "outputs": [
    {
     "data": {
      "text/html": [
       "<div>\n",
       "<style scoped>\n",
       "    .dataframe tbody tr th:only-of-type {\n",
       "        vertical-align: middle;\n",
       "    }\n",
       "\n",
       "    .dataframe tbody tr th {\n",
       "        vertical-align: top;\n",
       "    }\n",
       "\n",
       "    .dataframe thead th {\n",
       "        text-align: right;\n",
       "    }\n",
       "</style>\n",
       "<table border=\"1\" class=\"dataframe\">\n",
       "  <thead>\n",
       "    <tr style=\"text-align: right;\">\n",
       "      <th></th>\n",
       "      <th>date_of_birth_date</th>\n",
       "      <th>age</th>\n",
       "    </tr>\n",
       "  </thead>\n",
       "  <tbody>\n",
       "    <tr>\n",
       "      <th>5</th>\n",
       "      <td>1970-08-12</td>\n",
       "      <td>27.321809</td>\n",
       "    </tr>\n",
       "    <tr>\n",
       "      <th>4</th>\n",
       "      <td>1970-08-11</td>\n",
       "      <td>27.354380</td>\n",
       "    </tr>\n",
       "    <tr>\n",
       "      <th>9</th>\n",
       "      <td>1970-08-16</td>\n",
       "      <td>27.372922</td>\n",
       "    </tr>\n",
       "    <tr>\n",
       "      <th>8</th>\n",
       "      <td>1970-08-15</td>\n",
       "      <td>27.383290</td>\n",
       "    </tr>\n",
       "    <tr>\n",
       "      <th>7</th>\n",
       "      <td>1970-08-14</td>\n",
       "      <td>27.429498</td>\n",
       "    </tr>\n",
       "    <tr>\n",
       "      <th>13</th>\n",
       "      <td>1970-08-20</td>\n",
       "      <td>27.435200</td>\n",
       "    </tr>\n",
       "    <tr>\n",
       "      <th>10</th>\n",
       "      <td>1970-08-17</td>\n",
       "      <td>27.438700</td>\n",
       "    </tr>\n",
       "    <tr>\n",
       "      <th>12</th>\n",
       "      <td>1970-08-19</td>\n",
       "      <td>27.447737</td>\n",
       "    </tr>\n",
       "    <tr>\n",
       "      <th>6</th>\n",
       "      <td>1970-08-13</td>\n",
       "      <td>27.529915</td>\n",
       "    </tr>\n",
       "    <tr>\n",
       "      <th>3</th>\n",
       "      <td>1970-08-10</td>\n",
       "      <td>27.642978</td>\n",
       "    </tr>\n",
       "    <tr>\n",
       "      <th>0</th>\n",
       "      <td>1970-01-01</td>\n",
       "      <td>27.669178</td>\n",
       "    </tr>\n",
       "    <tr>\n",
       "      <th>2</th>\n",
       "      <td>1970-08-09</td>\n",
       "      <td>27.762490</td>\n",
       "    </tr>\n",
       "    <tr>\n",
       "      <th>1</th>\n",
       "      <td>1970-08-08</td>\n",
       "      <td>27.872340</td>\n",
       "    </tr>\n",
       "    <tr>\n",
       "      <th>11</th>\n",
       "      <td>1970-08-18</td>\n",
       "      <td>28.023911</td>\n",
       "    </tr>\n",
       "  </tbody>\n",
       "</table>\n",
       "</div>"
      ],
      "text/plain": [
       "   date_of_birth_date        age\n",
       "5          1970-08-12  27.321809\n",
       "4          1970-08-11  27.354380\n",
       "9          1970-08-16  27.372922\n",
       "8          1970-08-15  27.383290\n",
       "7          1970-08-14  27.429498\n",
       "13         1970-08-20  27.435200\n",
       "10         1970-08-17  27.438700\n",
       "12         1970-08-19  27.447737\n",
       "6          1970-08-13  27.529915\n",
       "3          1970-08-10  27.642978\n",
       "0          1970-01-01  27.669178\n",
       "2          1970-08-09  27.762490\n",
       "1          1970-08-08  27.872340\n",
       "11         1970-08-18  28.023911"
      ]
     },
     "execution_count": 69,
     "metadata": {},
     "output_type": "execute_result"
    }
   ],
   "source": [
    "# Age mean by date of birth\n",
    "df_patient[['date_of_birth_date', 'age']].groupby('date_of_birth_date', as_index=False).\\\n",
    "                                                mean().sort_values('age', ascending=True)"
   ]
  },
  {
   "cell_type": "markdown",
   "metadata": {},
   "source": [
    "*Traitement de la variable **street_number** :*\n",
    "* corriger les valeurs manquantes (**1.91%**) par la moyenne des valeurs.\n",
    "\n",
    "Les valeurs corrigées seront donc reconnaissables dans notre jeu de données."
   ]
  },
  {
   "cell_type": "code",
   "execution_count": 70,
   "metadata": {},
   "outputs": [
    {
     "data": {
      "text/plain": [
       "count    19420.000000\n",
       "mean        78.960659\n",
       "std        291.569161\n",
       "min          0.000000\n",
       "25%         10.000000\n",
       "50%         24.000000\n",
       "75%         60.000000\n",
       "max      12569.000000\n",
       "Name: street_number, dtype: float64"
      ]
     },
     "execution_count": 70,
     "metadata": {},
     "output_type": "execute_result"
    }
   ],
   "source": [
    "# Description of feature street_number\n",
    "df_patient.street_number.describe()"
   ]
  },
  {
   "cell_type": "code",
   "execution_count": 71,
   "metadata": {
    "scrolled": true
   },
   "outputs": [
    {
     "name": "stdout",
     "output_type": "stream",
     "text": [
      "Before correction, number of NaN values in street_number =  381\n"
     ]
    }
   ],
   "source": [
    "print(\"Before correction, number of NaN values in street_number = \", df_patient.street_number.isna().sum())"
   ]
  },
  {
   "cell_type": "code",
   "execution_count": 72,
   "metadata": {
    "scrolled": true
   },
   "outputs": [
    {
     "name": "stdout",
     "output_type": "stream",
     "text": [
      "After correction, number of NaN values in street_number =  0\n"
     ]
    }
   ],
   "source": [
    "df_patient.street_number = df_patient.street_number.fillna(df_patient.street_number.mean())\n",
    "print(\"After correction, number of NaN values in street_number = \", df_patient.street_number.isna().sum())"
   ]
  },
  {
   "cell_type": "markdown",
   "metadata": {},
   "source": [
    "*Traitement de la variable **date_of_birth** :*\n",
    "* corriger les valeurs manquantes (**10.06%**) par la valeur 0 :\n",
    "    * **tâche déjà réalisée plus haut**."
   ]
  },
  {
   "cell_type": "code",
   "execution_count": 73,
   "metadata": {},
   "outputs": [
    {
     "data": {
      "text/plain": [
       "0"
      ]
     },
     "execution_count": 73,
     "metadata": {},
     "output_type": "execute_result"
    }
   ],
   "source": [
    "# After correction : NaN values count\n",
    "df_patient.date_of_birth.isna().sum()"
   ]
  },
  {
   "cell_type": "markdown",
   "metadata": {},
   "source": [
    "La faible corrélation et le manque de cohérence entre les variables **date_of_birth** et **age** rendent difficile le choix de la méthode de correction de la variable **age**. En effet, il y a des personnes nées le même jour mais ayant des âges différents. La connaissance du jour de récolte des données m'aurait permis de discerner sur ce problème.\n",
    "\n",
    "Je vais donc ignorer les valeurs aberrantes et les considérer comme des valeurs justes pour faire le traitement des valeurs manquantes.\n",
    "\n",
    "*Traitement de la variable **age** :*\n",
    "* corriger les valeurs manquantes par la moyenne d'âge des personnes ayant le même jour de naissance."
   ]
  },
  {
   "cell_type": "code",
   "execution_count": 74,
   "metadata": {},
   "outputs": [
    {
     "data": {
      "text/plain": [
       "3959"
      ]
     },
     "execution_count": 74,
     "metadata": {},
     "output_type": "execute_result"
    }
   ],
   "source": [
    "# Before correction : NaN values count\n",
    "df_patient.age.isna().sum()"
   ]
  },
  {
   "cell_type": "code",
   "execution_count": 75,
   "metadata": {},
   "outputs": [],
   "source": [
    "def fill_age(dataframe=df_patient):\n",
    "    \"\"\"\n",
    "    This function fills NaN values of the feature age of dataframe df_patient.\n",
    "        It returns nothing.\n",
    "    \n",
    "    @parameter:\n",
    "        dataframe: a pandas DataFrame. By default, its value is df_patient.\n",
    "    \"\"\"\n",
    "    \n",
    "    # Create dataframe of age mean by date of birth (date type)\n",
    "    df_mean_age = dataframe[['date_of_birth_date', 'age']].groupby('date_of_birth_date', as_index=False).\\\n",
    "                                                mean().sort_values('age', ascending=True)\n",
    "    \n",
    "    # Convert df_mean_age to dict\n",
    "    dict_mean_age = df_mean_age.set_index('date_of_birth_date').T.to_dict('list')\n",
    "    \n",
    "    # Correct NaN values of feature age\n",
    "    for key, value in dict_mean_age.items():\n",
    "        dataframe.loc[(dataframe['date_of_birth_date'] == key) & (dataframe.age.isna() == True), 'age'] = value"
   ]
  },
  {
   "cell_type": "code",
   "execution_count": 76,
   "metadata": {
    "scrolled": true
   },
   "outputs": [],
   "source": [
    "# Correction\n",
    "fill_age()"
   ]
  },
  {
   "cell_type": "code",
   "execution_count": 77,
   "metadata": {
    "scrolled": false
   },
   "outputs": [
    {
     "data": {
      "text/plain": [
       "0"
      ]
     },
     "execution_count": 77,
     "metadata": {},
     "output_type": "execute_result"
    }
   ],
   "source": [
    "# After correction : NaN values count\n",
    "df_patient.age.isna().sum()"
   ]
  },
  {
   "cell_type": "markdown",
   "metadata": {},
   "source": [
    "Après le traitement des variables numériques, je note :\n",
    "* qu'il n'y a plus aucune valeur manquante ;\n",
    "* une baisse de la moyenne des variables **street_number_** et **date_of_birth** vu que les valeurs manquantes ont toutes été corrigées par 0 ;\n",
    "* une amélioration de la symétrie de la variable **age** car la médiane est beaucoup plus proche de la moyenne (qui a augmentée légèrement) qu'elle ne l'était."
   ]
  },
  {
   "cell_type": "code",
   "execution_count": 78,
   "metadata": {},
   "outputs": [
    {
     "data": {
      "text/html": [
       "<div>\n",
       "<style scoped>\n",
       "    .dataframe tbody tr th:only-of-type {\n",
       "        vertical-align: middle;\n",
       "    }\n",
       "\n",
       "    .dataframe tbody tr th {\n",
       "        vertical-align: top;\n",
       "    }\n",
       "\n",
       "    .dataframe thead th {\n",
       "        text-align: right;\n",
       "    }\n",
       "</style>\n",
       "<table border=\"1\" class=\"dataframe\">\n",
       "  <thead>\n",
       "    <tr style=\"text-align: right;\">\n",
       "      <th></th>\n",
       "      <th>patient_id</th>\n",
       "      <th>street_number</th>\n",
       "      <th>postcode</th>\n",
       "      <th>date_of_birth</th>\n",
       "      <th>age</th>\n",
       "    </tr>\n",
       "  </thead>\n",
       "  <tbody>\n",
       "    <tr>\n",
       "      <th>count</th>\n",
       "      <td>19801.000000</td>\n",
       "      <td>19801.000000</td>\n",
       "      <td>19801.000000</td>\n",
       "      <td>1.980100e+04</td>\n",
       "      <td>19801.000000</td>\n",
       "    </tr>\n",
       "    <tr>\n",
       "      <th>mean</th>\n",
       "      <td>553955.766830</td>\n",
       "      <td>78.960659</td>\n",
       "      <td>3667.782991</td>\n",
       "      <td>1.754547e+07</td>\n",
       "      <td>27.532267</td>\n",
       "    </tr>\n",
       "    <tr>\n",
       "      <th>std</th>\n",
       "      <td>260246.238454</td>\n",
       "      <td>288.750286</td>\n",
       "      <td>1402.307150</td>\n",
       "      <td>5.858154e+06</td>\n",
       "      <td>6.984206</td>\n",
       "    </tr>\n",
       "    <tr>\n",
       "      <th>min</th>\n",
       "      <td>100005.000000</td>\n",
       "      <td>0.000000</td>\n",
       "      <td>800.000000</td>\n",
       "      <td>0.000000e+00</td>\n",
       "      <td>0.000000</td>\n",
       "    </tr>\n",
       "    <tr>\n",
       "      <th>25%</th>\n",
       "      <td>329991.000000</td>\n",
       "      <td>10.000000</td>\n",
       "      <td>2485.000000</td>\n",
       "      <td>1.916110e+07</td>\n",
       "      <td>25.000000</td>\n",
       "    </tr>\n",
       "    <tr>\n",
       "      <th>50%</th>\n",
       "      <td>556356.000000</td>\n",
       "      <td>25.000000</td>\n",
       "      <td>3194.000000</td>\n",
       "      <td>1.944062e+07</td>\n",
       "      <td>27.669178</td>\n",
       "    </tr>\n",
       "    <tr>\n",
       "      <th>75%</th>\n",
       "      <td>779418.000000</td>\n",
       "      <td>64.000000</td>\n",
       "      <td>4601.000000</td>\n",
       "      <td>1.972083e+07</td>\n",
       "      <td>32.000000</td>\n",
       "    </tr>\n",
       "    <tr>\n",
       "      <th>max</th>\n",
       "      <td>999993.000000</td>\n",
       "      <td>12569.000000</td>\n",
       "      <td>7470.000000</td>\n",
       "      <td>1.999123e+07</td>\n",
       "      <td>92.000000</td>\n",
       "    </tr>\n",
       "  </tbody>\n",
       "</table>\n",
       "</div>"
      ],
      "text/plain": [
       "          patient_id  street_number      postcode  date_of_birth           age\n",
       "count   19801.000000   19801.000000  19801.000000   1.980100e+04  19801.000000\n",
       "mean   553955.766830      78.960659   3667.782991   1.754547e+07     27.532267\n",
       "std    260246.238454     288.750286   1402.307150   5.858154e+06      6.984206\n",
       "min    100005.000000       0.000000    800.000000   0.000000e+00      0.000000\n",
       "25%    329991.000000      10.000000   2485.000000   1.916110e+07     25.000000\n",
       "50%    556356.000000      25.000000   3194.000000   1.944062e+07     27.669178\n",
       "75%    779418.000000      64.000000   4601.000000   1.972083e+07     32.000000\n",
       "max    999993.000000   12569.000000   7470.000000   1.999123e+07     92.000000"
      ]
     },
     "execution_count": 78,
     "metadata": {},
     "output_type": "execute_result"
    }
   ],
   "source": [
    "df_patient.describe()"
   ]
  },
  {
   "cell_type": "markdown",
   "metadata": {},
   "source": [
    "## Question 2\n",
    "*Écrire une fonction de détection et de suppression des doublons*"
   ]
  },
  {
   "cell_type": "markdown",
   "metadata": {},
   "source": [
    "Après l'analyse et le traitement des données, je fais l'hypothèse suivante pour la détection de doublons :\n",
    "* Un patient n'est pas unique par son identifiant (**patient_id**) ; ce qui devait être le cas mais les données ont sûrement été récoltées à différentes époques.\n",
    "    * *Une illustration (example 1) ci-dessous le montre bien.*\n",
    "* Un patient est unique par son contact (**phone_number**), son adresse (**postcode**, **state**) et son âge (**age**). *Les autres variables présentent plusieurs erreurs de saisie.*\n",
    "    * *Une illustration (example 2) ci-dessous le montre bien.*\n",
    "\n",
    "Ce sont les variables de la ligne ci-dessus qui serviront à la détection de doublons."
   ]
  },
  {
   "cell_type": "code",
   "execution_count": 79,
   "metadata": {},
   "outputs": [],
   "source": [
    "def count_duplicates_by_column(dataframe=df_patient):\n",
    "    \"\"\"\n",
    "    This function creates a dataframe which is the count of all duplicates by feature of df_patient.\n",
    "        It returns a dataframe.\n",
    "    \n",
    "    @parameter:\n",
    "        dataframe: a pandas DataFrame. By default, its value is df_patient.\n",
    "    \n",
    "    @return:\n",
    "        df_duplicates_number: a pandas DataFrame with one column.\n",
    "    \"\"\"\n",
    "    \n",
    "    # Create a dataframe of number of column's duplicated values\n",
    "        # Create a dictionnary that collected values\n",
    "    duplicates_number = {}\n",
    "    for column in dataframe.columns.values:\n",
    "        duplicates_number[column] = len(dataframe[dataframe[column].duplicated() == True])\n",
    "    \n",
    "        # Create a dataframe from the dictionnary that created above\n",
    "    df_duplicates_number = pd.DataFrame.from_dict(duplicates_number, orient='index', \\\n",
    "                                              columns=['duplicates_number']).\\\n",
    "                                                                sort_values('duplicates_number', ascending=True)\n",
    "    \n",
    "    return df_duplicates_number"
   ]
  },
  {
   "cell_type": "code",
   "execution_count": 80,
   "metadata": {
    "scrolled": true
   },
   "outputs": [
    {
     "data": {
      "text/html": [
       "<div>\n",
       "<style scoped>\n",
       "    .dataframe tbody tr th:only-of-type {\n",
       "        vertical-align: middle;\n",
       "    }\n",
       "\n",
       "    .dataframe tbody tr th {\n",
       "        vertical-align: top;\n",
       "    }\n",
       "\n",
       "    .dataframe thead th {\n",
       "        text-align: right;\n",
       "    }\n",
       "</style>\n",
       "<table border=\"1\" class=\"dataframe\">\n",
       "  <thead>\n",
       "    <tr style=\"text-align: right;\">\n",
       "      <th></th>\n",
       "      <th>duplicates_number</th>\n",
       "    </tr>\n",
       "  </thead>\n",
       "  <tbody>\n",
       "    <tr>\n",
       "      <th>patient_id</th>\n",
       "      <td>197</td>\n",
       "    </tr>\n",
       "    <tr>\n",
       "      <th>phone_number</th>\n",
       "      <td>2068</td>\n",
       "    </tr>\n",
       "    <tr>\n",
       "      <th>name</th>\n",
       "      <td>2734</td>\n",
       "    </tr>\n",
       "    <tr>\n",
       "      <th>date_of_birth</th>\n",
       "      <td>6259</td>\n",
       "    </tr>\n",
       "    <tr>\n",
       "      <th>address_1</th>\n",
       "      <td>15484</td>\n",
       "    </tr>\n",
       "    <tr>\n",
       "      <th>suburb</th>\n",
       "      <td>16901</td>\n",
       "    </tr>\n",
       "    <tr>\n",
       "      <th>postcode</th>\n",
       "      <td>17793</td>\n",
       "    </tr>\n",
       "    <tr>\n",
       "      <th>street_number</th>\n",
       "      <td>18971</td>\n",
       "    </tr>\n",
       "    <tr>\n",
       "      <th>age</th>\n",
       "      <td>19729</td>\n",
       "    </tr>\n",
       "    <tr>\n",
       "      <th>date_of_birth_date</th>\n",
       "      <td>19787</td>\n",
       "    </tr>\n",
       "    <tr>\n",
       "      <th>state</th>\n",
       "      <td>19793</td>\n",
       "    </tr>\n",
       "  </tbody>\n",
       "</table>\n",
       "</div>"
      ],
      "text/plain": [
       "                    duplicates_number\n",
       "patient_id                        197\n",
       "phone_number                     2068\n",
       "name                             2734\n",
       "date_of_birth                    6259\n",
       "address_1                       15484\n",
       "suburb                          16901\n",
       "postcode                        17793\n",
       "street_number                   18971\n",
       "age                             19729\n",
       "date_of_birth_date              19787\n",
       "state                           19793"
      ]
     },
     "execution_count": 80,
     "metadata": {},
     "output_type": "execute_result"
    }
   ],
   "source": [
    "# View duplicates by feature\n",
    "count_duplicates_by_column()"
   ]
  },
  {
   "cell_type": "code",
   "execution_count": 81,
   "metadata": {
    "scrolled": true
   },
   "outputs": [
    {
     "data": {
      "text/plain": [
       "428821    2\n",
       "605950    1\n",
       "470608    1\n",
       "887646    1\n",
       "527709    1\n",
       "         ..\n",
       "227192    1\n",
       "853158    1\n",
       "853315    1\n",
       "848423    1\n",
       "166912    1\n",
       "Name: patient_id, Length: 196, dtype: int64"
      ]
     },
     "execution_count": 81,
     "metadata": {},
     "output_type": "execute_result"
    }
   ],
   "source": [
    "# Patient_id is not reliable for detecting duplicates\n",
    "df_patient[df_patient.patient_id.duplicated() == True]['patient_id'].value_counts()"
   ]
  },
  {
   "cell_type": "code",
   "execution_count": 82,
   "metadata": {
    "scrolled": true
   },
   "outputs": [
    {
     "data": {
      "text/html": [
       "<div>\n",
       "<style scoped>\n",
       "    .dataframe tbody tr th:only-of-type {\n",
       "        vertical-align: middle;\n",
       "    }\n",
       "\n",
       "    .dataframe tbody tr th {\n",
       "        vertical-align: top;\n",
       "    }\n",
       "\n",
       "    .dataframe thead th {\n",
       "        text-align: right;\n",
       "    }\n",
       "</style>\n",
       "<table border=\"1\" class=\"dataframe\">\n",
       "  <thead>\n",
       "    <tr style=\"text-align: right;\">\n",
       "      <th></th>\n",
       "      <th>patient_id</th>\n",
       "      <th>name</th>\n",
       "      <th>street_number</th>\n",
       "      <th>address_1</th>\n",
       "      <th>suburb</th>\n",
       "      <th>state</th>\n",
       "      <th>postcode</th>\n",
       "      <th>date_of_birth</th>\n",
       "      <th>age</th>\n",
       "      <th>phone_number</th>\n",
       "      <th>date_of_birth_date</th>\n",
       "    </tr>\n",
       "  </thead>\n",
       "  <tbody>\n",
       "    <tr>\n",
       "      <th>4094</th>\n",
       "      <td>428821</td>\n",
       "      <td>rory webb</td>\n",
       "      <td>24.0</td>\n",
       "      <td>houghton place</td>\n",
       "      <td>wendouree</td>\n",
       "      <td>vic</td>\n",
       "      <td>3216</td>\n",
       "      <td>19920516.0</td>\n",
       "      <td>31.00000</td>\n",
       "      <td>03 35306101</td>\n",
       "      <td>1970-08-19</td>\n",
       "    </tr>\n",
       "    <tr>\n",
       "      <th>5959</th>\n",
       "      <td>428821</td>\n",
       "      <td>chelsea tulla</td>\n",
       "      <td>23.0</td>\n",
       "      <td>britten-jones drive</td>\n",
       "      <td>ballarat</td>\n",
       "      <td>vic</td>\n",
       "      <td>3057</td>\n",
       "      <td>19270809.0</td>\n",
       "      <td>11.00000</td>\n",
       "      <td>04 87459349</td>\n",
       "      <td>1970-08-12</td>\n",
       "    </tr>\n",
       "    <tr>\n",
       "      <th>7609</th>\n",
       "      <td>428821</td>\n",
       "      <td>joshua meuris</td>\n",
       "      <td>25.0</td>\n",
       "      <td>monaro crescent</td>\n",
       "      <td>south melbourne</td>\n",
       "      <td>nsw</td>\n",
       "      <td>2285</td>\n",
       "      <td>19060502.0</td>\n",
       "      <td>27.76249</td>\n",
       "      <td>0</td>\n",
       "      <td>1970-08-09</td>\n",
       "    </tr>\n",
       "  </tbody>\n",
       "</table>\n",
       "</div>"
      ],
      "text/plain": [
       "      patient_id           name  street_number            address_1  \\\n",
       "4094      428821      rory webb           24.0       houghton place   \n",
       "5959      428821  chelsea tulla           23.0  britten-jones drive   \n",
       "7609      428821  joshua meuris           25.0      monaro crescent   \n",
       "\n",
       "               suburb state  postcode  date_of_birth       age phone_number  \\\n",
       "4094        wendouree   vic      3216     19920516.0  31.00000  03 35306101   \n",
       "5959         ballarat   vic      3057     19270809.0  11.00000  04 87459349   \n",
       "7609  south melbourne   nsw      2285     19060502.0  27.76249            0   \n",
       "\n",
       "     date_of_birth_date  \n",
       "4094         1970-08-19  \n",
       "5959         1970-08-12  \n",
       "7609         1970-08-09  "
      ]
     },
     "execution_count": 82,
     "metadata": {},
     "output_type": "execute_result"
    }
   ],
   "source": [
    "# Example 1\n",
    "df_patient[df_patient.patient_id == 428821]"
   ]
  },
  {
   "cell_type": "code",
   "execution_count": 83,
   "metadata": {},
   "outputs": [
    {
     "data": {
      "text/plain": [
       "0              910\n",
       "04 33794273      3\n",
       "08 38366451      3\n",
       "04 61802611      3\n",
       "07 26649590      3\n",
       "              ... \n",
       "04 76722284      1\n",
       "02 13744238      1\n",
       "02 37735964      1\n",
       "07 24551520      1\n",
       "02 73266082      1\n",
       "Name: phone_number, Length: 682, dtype: int64"
      ]
     },
     "execution_count": 83,
     "metadata": {},
     "output_type": "execute_result"
    }
   ],
   "source": [
    "# Phone_number is very reliable for detecting duplicates\n",
    "df_patient[df_patient.phone_number.duplicated() == True]['phone_number'].value_counts()"
   ]
  },
  {
   "cell_type": "code",
   "execution_count": 84,
   "metadata": {},
   "outputs": [
    {
     "data": {
      "text/html": [
       "<div>\n",
       "<style scoped>\n",
       "    .dataframe tbody tr th:only-of-type {\n",
       "        vertical-align: middle;\n",
       "    }\n",
       "\n",
       "    .dataframe tbody tr th {\n",
       "        vertical-align: top;\n",
       "    }\n",
       "\n",
       "    .dataframe thead th {\n",
       "        text-align: right;\n",
       "    }\n",
       "</style>\n",
       "<table border=\"1\" class=\"dataframe\">\n",
       "  <thead>\n",
       "    <tr style=\"text-align: right;\">\n",
       "      <th></th>\n",
       "      <th>patient_id</th>\n",
       "      <th>name</th>\n",
       "      <th>street_number</th>\n",
       "      <th>address_1</th>\n",
       "      <th>suburb</th>\n",
       "      <th>state</th>\n",
       "      <th>postcode</th>\n",
       "      <th>date_of_birth</th>\n",
       "      <th>age</th>\n",
       "      <th>phone_number</th>\n",
       "      <th>date_of_birth_date</th>\n",
       "    </tr>\n",
       "  </thead>\n",
       "  <tbody>\n",
       "    <tr>\n",
       "      <th>1201</th>\n",
       "      <td>489678</td>\n",
       "      <td>jacob svenson</td>\n",
       "      <td>48.0</td>\n",
       "      <td>wagga street</td>\n",
       "      <td>kempsey</td>\n",
       "      <td>nsw</td>\n",
       "      <td>2009</td>\n",
       "      <td>19431221.0</td>\n",
       "      <td>31.0</td>\n",
       "      <td>02 03546747</td>\n",
       "      <td>1970-08-13</td>\n",
       "    </tr>\n",
       "    <tr>\n",
       "      <th>6086</th>\n",
       "      <td>669354</td>\n",
       "      <td>jacob svenson</td>\n",
       "      <td>48.0</td>\n",
       "      <td>wagga soreet</td>\n",
       "      <td>kempsey</td>\n",
       "      <td>nsw</td>\n",
       "      <td>2009</td>\n",
       "      <td>19431221.0</td>\n",
       "      <td>31.0</td>\n",
       "      <td>02 03546747</td>\n",
       "      <td>1970-08-13</td>\n",
       "    </tr>\n",
       "    <tr>\n",
       "      <th>7365</th>\n",
       "      <td>576055</td>\n",
       "      <td>jacob svenson</td>\n",
       "      <td>98.0</td>\n",
       "      <td>wagga street</td>\n",
       "      <td>kempsey</td>\n",
       "      <td>nsw</td>\n",
       "      <td>2009</td>\n",
       "      <td>0.0</td>\n",
       "      <td>31.0</td>\n",
       "      <td>02 03546747</td>\n",
       "      <td>1970-01-01</td>\n",
       "    </tr>\n",
       "    <tr>\n",
       "      <th>13795</th>\n",
       "      <td>909797</td>\n",
       "      <td>jaob svenson</td>\n",
       "      <td>48.0</td>\n",
       "      <td>wagga smreet</td>\n",
       "      <td>kempsey</td>\n",
       "      <td>nsw</td>\n",
       "      <td>2009</td>\n",
       "      <td>19431221.0</td>\n",
       "      <td>31.0</td>\n",
       "      <td>02 03546747</td>\n",
       "      <td>1970-08-13</td>\n",
       "    </tr>\n",
       "  </tbody>\n",
       "</table>\n",
       "</div>"
      ],
      "text/plain": [
       "       patient_id           name  street_number     address_1   suburb state  \\\n",
       "1201       489678  jacob svenson           48.0  wagga street  kempsey   nsw   \n",
       "6086       669354  jacob svenson           48.0  wagga soreet  kempsey   nsw   \n",
       "7365       576055  jacob svenson           98.0  wagga street  kempsey   nsw   \n",
       "13795      909797   jaob svenson           48.0  wagga smreet  kempsey   nsw   \n",
       "\n",
       "       postcode  date_of_birth   age phone_number date_of_birth_date  \n",
       "1201       2009     19431221.0  31.0  02 03546747         1970-08-13  \n",
       "6086       2009     19431221.0  31.0  02 03546747         1970-08-13  \n",
       "7365       2009            0.0  31.0  02 03546747         1970-01-01  \n",
       "13795      2009     19431221.0  31.0  02 03546747         1970-08-13  "
      ]
     },
     "execution_count": 84,
     "metadata": {},
     "output_type": "execute_result"
    }
   ],
   "source": [
    "# Example 2\n",
    "df_patient[df_patient.phone_number == '02 03546747']"
   ]
  },
  {
   "cell_type": "code",
   "execution_count": 85,
   "metadata": {},
   "outputs": [],
   "source": [
    "def detect_duplicates(dataframe=df_patient.copy()):\n",
    "    \"\"\"\n",
    "    This function allows the detection and the deletion of duplicates in df_patient.\n",
    "        It returns a new version of df_patient without duplicates.\n",
    "    \n",
    "    In our case, a duplicate is a dataframe's row that is repeated more than once taking into \n",
    "        account data entry errors.\n",
    "    \n",
    "    @parameter:\n",
    "        dataframe: a pandas DataFrame. By default, its value is df_patient.\n",
    "    @return:\n",
    "        dataframe: a pandas DataFrame without duplicates.\n",
    "    \"\"\"\n",
    "    \n",
    "    # Collect in df_duplicates all lines duplicated of dataframe\n",
    "    df_duplicates = dataframe[(dataframe.phone_number.duplicated() == True) & \\\n",
    "                              (dataframe.postcode.duplicated() == True) & \\\n",
    "                              (dataframe.state.duplicated() == True) & \\\n",
    "                              (dataframe.age.duplicated() == True)]\n",
    "    \n",
    "    # Collect df_duplicates's indexes\n",
    "    indexes = df_duplicates.index\n",
    "    \n",
    "    # Delete all lines duplicated values of dataframe\n",
    "    dataframe = dataframe.drop(index=indexes)\n",
    "    \n",
    "    return dataframe[:]"
   ]
  },
  {
   "cell_type": "markdown",
   "metadata": {},
   "source": [
    "## Question 3\n",
    "*Écrire une ou plusieurs fonctions (eg utilisant [Pytest](https://docs.pytest.org/en/stable/)) afin de tester la qualité de votre fonction.*"
   ]
  },
  {
   "cell_type": "code",
   "execution_count": 86,
   "metadata": {},
   "outputs": [],
   "source": [
    "import pytest\n",
    "\n",
    "def test_detect_duplicated():\n",
    "    assert type(detect_duplicates()) == pd.DataFrame, \"You must return a dataframe.\"\n",
    "    assert detect_duplicates().shape == (17862, 11), \"The shape is incorrect.\"\n",
    "    assert len(detect_duplicates()) < len(df_patient), \"You must delete duplicates of your new dataframe.\""
   ]
  },
  {
   "cell_type": "code",
   "execution_count": 87,
   "metadata": {},
   "outputs": [],
   "source": [
    "test_detect_duplicated()"
   ]
  },
  {
   "cell_type": "markdown",
   "metadata": {},
   "source": [
    "## Question 4\n",
    "*Étudier la prévalence de la maladie dans la population en faisant une analyse exploratoire des données.*"
   ]
  },
  {
   "cell_type": "code",
   "execution_count": 88,
   "metadata": {},
   "outputs": [],
   "source": [
    "# Apply detect_duplicates and put its output in df_patient\n",
    "df_patient = detect_duplicates()"
   ]
  },
  {
   "cell_type": "code",
   "execution_count": 90,
   "metadata": {},
   "outputs": [
    {
     "data": {
      "text/html": [
       "<div>\n",
       "<style scoped>\n",
       "    .dataframe tbody tr th:only-of-type {\n",
       "        vertical-align: middle;\n",
       "    }\n",
       "\n",
       "    .dataframe tbody tr th {\n",
       "        vertical-align: top;\n",
       "    }\n",
       "\n",
       "    .dataframe thead th {\n",
       "        text-align: right;\n",
       "    }\n",
       "</style>\n",
       "<table border=\"1\" class=\"dataframe\">\n",
       "  <thead>\n",
       "    <tr style=\"text-align: right;\">\n",
       "      <th></th>\n",
       "      <th>patient_id</th>\n",
       "      <th>name</th>\n",
       "      <th>street_number</th>\n",
       "      <th>address_1</th>\n",
       "      <th>suburb</th>\n",
       "      <th>state</th>\n",
       "      <th>postcode</th>\n",
       "      <th>date_of_birth</th>\n",
       "      <th>age</th>\n",
       "      <th>phone_number</th>\n",
       "      <th>date_of_birth_date</th>\n",
       "    </tr>\n",
       "  </thead>\n",
       "  <tbody>\n",
       "    <tr>\n",
       "      <th>count</th>\n",
       "      <td>17862.000000</td>\n",
       "      <td>17862</td>\n",
       "      <td>17862.000000</td>\n",
       "      <td>17862</td>\n",
       "      <td>17862</td>\n",
       "      <td>17862</td>\n",
       "      <td>17862.000000</td>\n",
       "      <td>1.786200e+04</td>\n",
       "      <td>17862.000000</td>\n",
       "      <td>17862</td>\n",
       "      <td>17862</td>\n",
       "    </tr>\n",
       "    <tr>\n",
       "      <th>unique</th>\n",
       "      <td>NaN</td>\n",
       "      <td>15919</td>\n",
       "      <td>NaN</td>\n",
       "      <td>4074</td>\n",
       "      <td>2700</td>\n",
       "      <td>8</td>\n",
       "      <td>NaN</td>\n",
       "      <td>NaN</td>\n",
       "      <td>NaN</td>\n",
       "      <td>17733</td>\n",
       "      <td>14</td>\n",
       "    </tr>\n",
       "    <tr>\n",
       "      <th>top</th>\n",
       "      <td>NaN</td>\n",
       "      <td>clarke</td>\n",
       "      <td>NaN</td>\n",
       "      <td></td>\n",
       "      <td>toowoomba</td>\n",
       "      <td>nsw</td>\n",
       "      <td>NaN</td>\n",
       "      <td>NaN</td>\n",
       "      <td>NaN</td>\n",
       "      <td>0</td>\n",
       "      <td>1970-01-01</td>\n",
       "    </tr>\n",
       "    <tr>\n",
       "      <th>freq</th>\n",
       "      <td>NaN</td>\n",
       "      <td>13</td>\n",
       "      <td>NaN</td>\n",
       "      <td>698</td>\n",
       "      <td>345</td>\n",
       "      <td>6022</td>\n",
       "      <td>NaN</td>\n",
       "      <td>NaN</td>\n",
       "      <td>NaN</td>\n",
       "      <td>88</td>\n",
       "      <td>1772</td>\n",
       "    </tr>\n",
       "    <tr>\n",
       "      <th>mean</th>\n",
       "      <td>554464.620703</td>\n",
       "      <td>NaN</td>\n",
       "      <td>76.237100</td>\n",
       "      <td>NaN</td>\n",
       "      <td>NaN</td>\n",
       "      <td>NaN</td>\n",
       "      <td>3668.319225</td>\n",
       "      <td>1.756269e+07</td>\n",
       "      <td>27.553706</td>\n",
       "      <td>NaN</td>\n",
       "      <td>NaN</td>\n",
       "    </tr>\n",
       "    <tr>\n",
       "      <th>std</th>\n",
       "      <td>260181.138816</td>\n",
       "      <td>NaN</td>\n",
       "      <td>272.326651</td>\n",
       "      <td>NaN</td>\n",
       "      <td>NaN</td>\n",
       "      <td>NaN</td>\n",
       "      <td>1403.738428</td>\n",
       "      <td>5.834944e+06</td>\n",
       "      <td>6.921853</td>\n",
       "      <td>NaN</td>\n",
       "      <td>NaN</td>\n",
       "    </tr>\n",
       "    <tr>\n",
       "      <th>min</th>\n",
       "      <td>100005.000000</td>\n",
       "      <td>NaN</td>\n",
       "      <td>0.000000</td>\n",
       "      <td>NaN</td>\n",
       "      <td>NaN</td>\n",
       "      <td>NaN</td>\n",
       "      <td>800.000000</td>\n",
       "      <td>0.000000e+00</td>\n",
       "      <td>0.000000</td>\n",
       "      <td>NaN</td>\n",
       "      <td>NaN</td>\n",
       "    </tr>\n",
       "    <tr>\n",
       "      <th>25%</th>\n",
       "      <td>331319.000000</td>\n",
       "      <td>NaN</td>\n",
       "      <td>10.000000</td>\n",
       "      <td>NaN</td>\n",
       "      <td>NaN</td>\n",
       "      <td>NaN</td>\n",
       "      <td>2484.000000</td>\n",
       "      <td>1.916102e+07</td>\n",
       "      <td>25.000000</td>\n",
       "      <td>NaN</td>\n",
       "      <td>NaN</td>\n",
       "    </tr>\n",
       "    <tr>\n",
       "      <th>50%</th>\n",
       "      <td>556198.000000</td>\n",
       "      <td>NaN</td>\n",
       "      <td>25.000000</td>\n",
       "      <td>NaN</td>\n",
       "      <td>NaN</td>\n",
       "      <td>NaN</td>\n",
       "      <td>3194.000000</td>\n",
       "      <td>1.944072e+07</td>\n",
       "      <td>27.669178</td>\n",
       "      <td>NaN</td>\n",
       "      <td>NaN</td>\n",
       "    </tr>\n",
       "    <tr>\n",
       "      <th>75%</th>\n",
       "      <td>779832.000000</td>\n",
       "      <td>NaN</td>\n",
       "      <td>64.000000</td>\n",
       "      <td>NaN</td>\n",
       "      <td>NaN</td>\n",
       "      <td>NaN</td>\n",
       "      <td>4610.000000</td>\n",
       "      <td>1.972079e+07</td>\n",
       "      <td>32.000000</td>\n",
       "      <td>NaN</td>\n",
       "      <td>NaN</td>\n",
       "    </tr>\n",
       "    <tr>\n",
       "      <th>max</th>\n",
       "      <td>999993.000000</td>\n",
       "      <td>NaN</td>\n",
       "      <td>12569.000000</td>\n",
       "      <td>NaN</td>\n",
       "      <td>NaN</td>\n",
       "      <td>NaN</td>\n",
       "      <td>7470.000000</td>\n",
       "      <td>1.999123e+07</td>\n",
       "      <td>92.000000</td>\n",
       "      <td>NaN</td>\n",
       "      <td>NaN</td>\n",
       "    </tr>\n",
       "  </tbody>\n",
       "</table>\n",
       "</div>"
      ],
      "text/plain": [
       "           patient_id     name  street_number address_1     suburb  state  \\\n",
       "count    17862.000000    17862   17862.000000     17862      17862  17862   \n",
       "unique            NaN    15919            NaN      4074       2700      8   \n",
       "top               NaN   clarke            NaN            toowoomba    nsw   \n",
       "freq              NaN       13            NaN       698        345   6022   \n",
       "mean    554464.620703      NaN      76.237100       NaN        NaN    NaN   \n",
       "std     260181.138816      NaN     272.326651       NaN        NaN    NaN   \n",
       "min     100005.000000      NaN       0.000000       NaN        NaN    NaN   \n",
       "25%     331319.000000      NaN      10.000000       NaN        NaN    NaN   \n",
       "50%     556198.000000      NaN      25.000000       NaN        NaN    NaN   \n",
       "75%     779832.000000      NaN      64.000000       NaN        NaN    NaN   \n",
       "max     999993.000000      NaN   12569.000000       NaN        NaN    NaN   \n",
       "\n",
       "            postcode  date_of_birth           age phone_number  \\\n",
       "count   17862.000000   1.786200e+04  17862.000000        17862   \n",
       "unique           NaN            NaN           NaN        17733   \n",
       "top              NaN            NaN           NaN            0   \n",
       "freq             NaN            NaN           NaN           88   \n",
       "mean     3668.319225   1.756269e+07     27.553706          NaN   \n",
       "std      1403.738428   5.834944e+06      6.921853          NaN   \n",
       "min       800.000000   0.000000e+00      0.000000          NaN   \n",
       "25%      2484.000000   1.916102e+07     25.000000          NaN   \n",
       "50%      3194.000000   1.944072e+07     27.669178          NaN   \n",
       "75%      4610.000000   1.972079e+07     32.000000          NaN   \n",
       "max      7470.000000   1.999123e+07     92.000000          NaN   \n",
       "\n",
       "       date_of_birth_date  \n",
       "count               17862  \n",
       "unique                 14  \n",
       "top            1970-01-01  \n",
       "freq                 1772  \n",
       "mean                  NaN  \n",
       "std                   NaN  \n",
       "min                   NaN  \n",
       "25%                   NaN  \n",
       "50%                   NaN  \n",
       "75%                   NaN  \n",
       "max                   NaN  "
      ]
     },
     "execution_count": 90,
     "metadata": {},
     "output_type": "execute_result"
    }
   ],
   "source": [
    "# Describe df_patient\n",
    "df_patient.describe(include='all')"
   ]
  },
  {
   "cell_type": "markdown",
   "metadata": {},
   "source": [
    "### Description des données : df_pcr"
   ]
  },
  {
   "cell_type": "markdown",
   "metadata": {},
   "source": [
    "*Quelles sont les variables disponibles ?*"
   ]
  },
  {
   "cell_type": "code",
   "execution_count": 91,
   "metadata": {},
   "outputs": [
    {
     "name": "stdout",
     "output_type": "stream",
     "text": [
      "['patient_id' 'pcr']\n"
     ]
    }
   ],
   "source": [
    "print(df_pcr.columns.values)"
   ]
  },
  {
   "cell_type": "markdown",
   "metadata": {},
   "source": [
    "*Lesquelles des variables sont catégorielles ou quantitatives ?*\n",
    "* Nominale : pcr"
   ]
  },
  {
   "cell_type": "code",
   "execution_count": 92,
   "metadata": {
    "scrolled": true
   },
   "outputs": [
    {
     "data": {
      "text/html": [
       "<div>\n",
       "<style scoped>\n",
       "    .dataframe tbody tr th:only-of-type {\n",
       "        vertical-align: middle;\n",
       "    }\n",
       "\n",
       "    .dataframe tbody tr th {\n",
       "        vertical-align: top;\n",
       "    }\n",
       "\n",
       "    .dataframe thead th {\n",
       "        text-align: right;\n",
       "    }\n",
       "</style>\n",
       "<table border=\"1\" class=\"dataframe\">\n",
       "  <thead>\n",
       "    <tr style=\"text-align: right;\">\n",
       "      <th></th>\n",
       "      <th>patient_id</th>\n",
       "      <th>pcr</th>\n",
       "    </tr>\n",
       "  </thead>\n",
       "  <tbody>\n",
       "    <tr>\n",
       "      <th>0</th>\n",
       "      <td>653091</td>\n",
       "      <td>N</td>\n",
       "    </tr>\n",
       "    <tr>\n",
       "      <th>1</th>\n",
       "      <td>347667</td>\n",
       "      <td>Negative</td>\n",
       "    </tr>\n",
       "    <tr>\n",
       "      <th>2</th>\n",
       "      <td>708481</td>\n",
       "      <td>Positive</td>\n",
       "    </tr>\n",
       "    <tr>\n",
       "      <th>3</th>\n",
       "      <td>148825</td>\n",
       "      <td>Negative</td>\n",
       "    </tr>\n",
       "    <tr>\n",
       "      <th>4</th>\n",
       "      <td>150081</td>\n",
       "      <td>Negative</td>\n",
       "    </tr>\n",
       "  </tbody>\n",
       "</table>\n",
       "</div>"
      ],
      "text/plain": [
       "   patient_id       pcr\n",
       "0      653091         N\n",
       "1      347667  Negative\n",
       "2      708481  Positive\n",
       "3      148825  Negative\n",
       "4      150081  Negative"
      ]
     },
     "execution_count": 92,
     "metadata": {},
     "output_type": "execute_result"
    }
   ],
   "source": [
    "# Preview data\n",
    "df_pcr.head()"
   ]
  },
  {
   "cell_type": "code",
   "execution_count": 93,
   "metadata": {
    "scrolled": false
   },
   "outputs": [
    {
     "data": {
      "text/html": [
       "<div>\n",
       "<style scoped>\n",
       "    .dataframe tbody tr th:only-of-type {\n",
       "        vertical-align: middle;\n",
       "    }\n",
       "\n",
       "    .dataframe tbody tr th {\n",
       "        vertical-align: top;\n",
       "    }\n",
       "\n",
       "    .dataframe thead th {\n",
       "        text-align: right;\n",
       "    }\n",
       "</style>\n",
       "<table border=\"1\" class=\"dataframe\">\n",
       "  <thead>\n",
       "    <tr style=\"text-align: right;\">\n",
       "      <th></th>\n",
       "      <th>patient_id</th>\n",
       "      <th>pcr</th>\n",
       "    </tr>\n",
       "  </thead>\n",
       "  <tbody>\n",
       "    <tr>\n",
       "      <th>8795</th>\n",
       "      <td>249457</td>\n",
       "      <td>N</td>\n",
       "    </tr>\n",
       "    <tr>\n",
       "      <th>8796</th>\n",
       "      <td>279689</td>\n",
       "      <td>Positive</td>\n",
       "    </tr>\n",
       "    <tr>\n",
       "      <th>8797</th>\n",
       "      <td>975612</td>\n",
       "      <td>N</td>\n",
       "    </tr>\n",
       "    <tr>\n",
       "      <th>8798</th>\n",
       "      <td>884429</td>\n",
       "      <td>Positive</td>\n",
       "    </tr>\n",
       "    <tr>\n",
       "      <th>8799</th>\n",
       "      <td>272409</td>\n",
       "      <td>Negative</td>\n",
       "    </tr>\n",
       "  </tbody>\n",
       "</table>\n",
       "</div>"
      ],
      "text/plain": [
       "      patient_id       pcr\n",
       "8795      249457         N\n",
       "8796      279689  Positive\n",
       "8797      975612         N\n",
       "8798      884429  Positive\n",
       "8799      272409  Negative"
      ]
     },
     "execution_count": 93,
     "metadata": {},
     "output_type": "execute_result"
    }
   ],
   "source": [
    "df_pcr.tail()"
   ]
  },
  {
   "cell_type": "markdown",
   "metadata": {},
   "source": [
    "*Lesquelles des lignes sont en double dans les données ?*\n",
    "\n",
    "Il y a 14 doublons apparents qui seront supprimés immédiatement."
   ]
  },
  {
   "cell_type": "code",
   "execution_count": 94,
   "metadata": {},
   "outputs": [
    {
     "data": {
      "text/html": [
       "<div>\n",
       "<style scoped>\n",
       "    .dataframe tbody tr th:only-of-type {\n",
       "        vertical-align: middle;\n",
       "    }\n",
       "\n",
       "    .dataframe tbody tr th {\n",
       "        vertical-align: top;\n",
       "    }\n",
       "\n",
       "    .dataframe thead th {\n",
       "        text-align: right;\n",
       "    }\n",
       "</style>\n",
       "<table border=\"1\" class=\"dataframe\">\n",
       "  <thead>\n",
       "    <tr style=\"text-align: right;\">\n",
       "      <th></th>\n",
       "      <th>patient_id</th>\n",
       "      <th>pcr</th>\n",
       "    </tr>\n",
       "  </thead>\n",
       "  <tbody>\n",
       "    <tr>\n",
       "      <th>2251</th>\n",
       "      <td>728889</td>\n",
       "      <td>Negative</td>\n",
       "    </tr>\n",
       "    <tr>\n",
       "      <th>2934</th>\n",
       "      <td>159500</td>\n",
       "      <td>N</td>\n",
       "    </tr>\n",
       "    <tr>\n",
       "      <th>4666</th>\n",
       "      <td>651216</td>\n",
       "      <td>N</td>\n",
       "    </tr>\n",
       "    <tr>\n",
       "      <th>4741</th>\n",
       "      <td>328071</td>\n",
       "      <td>Positive</td>\n",
       "    </tr>\n",
       "    <tr>\n",
       "      <th>4859</th>\n",
       "      <td>527530</td>\n",
       "      <td>Negative</td>\n",
       "    </tr>\n",
       "    <tr>\n",
       "      <th>4939</th>\n",
       "      <td>411955</td>\n",
       "      <td>N</td>\n",
       "    </tr>\n",
       "    <tr>\n",
       "      <th>5071</th>\n",
       "      <td>655839</td>\n",
       "      <td>Negative</td>\n",
       "    </tr>\n",
       "    <tr>\n",
       "      <th>5724</th>\n",
       "      <td>670706</td>\n",
       "      <td>Positive</td>\n",
       "    </tr>\n",
       "    <tr>\n",
       "      <th>5745</th>\n",
       "      <td>512755</td>\n",
       "      <td>Negative</td>\n",
       "    </tr>\n",
       "    <tr>\n",
       "      <th>6176</th>\n",
       "      <td>483152</td>\n",
       "      <td>Negative</td>\n",
       "    </tr>\n",
       "    <tr>\n",
       "      <th>7056</th>\n",
       "      <td>476826</td>\n",
       "      <td>N</td>\n",
       "    </tr>\n",
       "    <tr>\n",
       "      <th>7254</th>\n",
       "      <td>465871</td>\n",
       "      <td>N</td>\n",
       "    </tr>\n",
       "    <tr>\n",
       "      <th>8249</th>\n",
       "      <td>227192</td>\n",
       "      <td>N</td>\n",
       "    </tr>\n",
       "    <tr>\n",
       "      <th>8492</th>\n",
       "      <td>848423</td>\n",
       "      <td>N</td>\n",
       "    </tr>\n",
       "  </tbody>\n",
       "</table>\n",
       "</div>"
      ],
      "text/plain": [
       "      patient_id       pcr\n",
       "2251      728889  Negative\n",
       "2934      159500         N\n",
       "4666      651216         N\n",
       "4741      328071  Positive\n",
       "4859      527530  Negative\n",
       "4939      411955         N\n",
       "5071      655839  Negative\n",
       "5724      670706  Positive\n",
       "5745      512755  Negative\n",
       "6176      483152  Negative\n",
       "7056      476826         N\n",
       "7254      465871         N\n",
       "8249      227192         N\n",
       "8492      848423         N"
      ]
     },
     "execution_count": 94,
     "metadata": {},
     "output_type": "execute_result"
    }
   ],
   "source": [
    "df_pcr[df_pcr.duplicated() == True]"
   ]
  },
  {
   "cell_type": "code",
   "execution_count": 95,
   "metadata": {},
   "outputs": [],
   "source": [
    "# Delete duplicates\n",
    "df_pcr = df_pcr.drop_duplicates()"
   ]
  },
  {
   "cell_type": "markdown",
   "metadata": {},
   "source": [
    "*Lesquelles des variables comporteraient des erreurs ou des valeurs manquantes ?*\n",
    "\n",
    "Il n'y aucune valeur manquante."
   ]
  },
  {
   "cell_type": "code",
   "execution_count": 96,
   "metadata": {},
   "outputs": [
    {
     "data": {
      "text/plain": [
       "patient_id    0\n",
       "pcr           0\n",
       "dtype: int64"
      ]
     },
     "execution_count": 96,
     "metadata": {},
     "output_type": "execute_result"
    }
   ],
   "source": [
    "df_pcr.isna().sum()"
   ]
  },
  {
   "cell_type": "markdown",
   "metadata": {},
   "source": [
    "*Quels sont les types des différentes variables ?*\n",
    "* 1 variable entière (int)\n",
    "* 1 variable de chaînes de caractère (string)"
   ]
  },
  {
   "cell_type": "code",
   "execution_count": 97,
   "metadata": {
    "scrolled": true
   },
   "outputs": [
    {
     "name": "stdout",
     "output_type": "stream",
     "text": [
      "<class 'pandas.core.frame.DataFrame'>\n",
      "Int64Index: 8786 entries, 0 to 8799\n",
      "Data columns (total 2 columns):\n",
      " #   Column      Non-Null Count  Dtype \n",
      "---  ------      --------------  ----- \n",
      " 0   patient_id  8786 non-null   int64 \n",
      " 1   pcr         8786 non-null   object\n",
      "dtypes: int64(1), object(1)\n",
      "memory usage: 205.9+ KB\n"
     ]
    }
   ],
   "source": [
    "df_pcr.info()"
   ]
  },
  {
   "cell_type": "markdown",
   "metadata": {},
   "source": [
    "#### Analyse de la variable pcr"
   ]
  },
  {
   "cell_type": "markdown",
   "metadata": {},
   "source": [
    "La variable **pcr** compte 4 valeurs uniques qu'on peut réduire à 2 :\n",
    "* *Négative* deviendra *N* ;\n",
    "* *Positive* en *P*."
   ]
  },
  {
   "cell_type": "code",
   "execution_count": 98,
   "metadata": {},
   "outputs": [
    {
     "data": {
      "text/plain": [
       "count     8786\n",
       "unique       4\n",
       "top          N\n",
       "freq      3475\n",
       "Name: pcr, dtype: object"
      ]
     },
     "execution_count": 98,
     "metadata": {},
     "output_type": "execute_result"
    }
   ],
   "source": [
    "# Description\n",
    "df_pcr.pcr.describe()"
   ]
  },
  {
   "cell_type": "code",
   "execution_count": 99,
   "metadata": {},
   "outputs": [
    {
     "data": {
      "text/plain": [
       "N           3475\n",
       "Negative    3129\n",
       "Positive    1281\n",
       "P            901\n",
       "Name: pcr, dtype: int64"
      ]
     },
     "execution_count": 99,
     "metadata": {},
     "output_type": "execute_result"
    }
   ],
   "source": [
    "# Count each unique values\n",
    "df_pcr.pcr.value_counts()"
   ]
  },
  {
   "cell_type": "code",
   "execution_count": 100,
   "metadata": {},
   "outputs": [],
   "source": [
    "# Correction\n",
    "df_pcr.pcr = df_pcr.pcr.replace(\"Negative\", 'N')\n",
    "df_pcr.pcr = df_pcr.pcr.replace(\"Positive\", 'P')"
   ]
  },
  {
   "cell_type": "code",
   "execution_count": 102,
   "metadata": {},
   "outputs": [
    {
     "data": {
      "text/plain": [
       "<matplotlib.axes._subplots.AxesSubplot at 0x7fdab2138f70>"
      ]
     },
     "execution_count": 102,
     "metadata": {},
     "output_type": "execute_result"
    },
    {
     "data": {
      "image/png": "[encoded data removed]",
      "text/plain": [
       "<Figure size 432x288 with 1 Axes>"
      ]
     },
     "metadata": {},
     "output_type": "display_data"
    }
   ],
   "source": [
    "# After correction\n",
    "sns.countplot(df_pcr.pcr)"
   ]
  },
  {
   "cell_type": "code",
   "execution_count": null,
   "metadata": {},
   "outputs": [],
   "source": []
  }
 ],
 "metadata": {
  "kernelspec": {
   "display_name": "Python 3",
   "language": "python",
   "name": "python3"
  },
  "language_info": {
   "codemirror_mode": {
    "name": "ipython",
    "version": 3
   },
   "file_extension": ".py",
   "mimetype": "text/x-python",
   "name": "python",
   "nbconvert_exporter": "python",
   "pygments_lexer": "ipython3",
   "version": "3.8.3"
  }
 },
 "nbformat": 4,
 "nbformat_minor": 4
}
